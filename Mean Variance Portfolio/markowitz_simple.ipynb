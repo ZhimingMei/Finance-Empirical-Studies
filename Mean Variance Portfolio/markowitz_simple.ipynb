{
 "cells": [
  {
   "cell_type": "markdown",
   "metadata": {},
   "source": [
    "## Import packages"
   ]
  },
  {
   "cell_type": "code",
   "execution_count": 30,
   "metadata": {},
   "outputs": [],
   "source": [
    "import pandas as pd\n",
    "import numpy as np\n",
    "import os"
   ]
  },
  {
   "cell_type": "markdown",
   "metadata": {},
   "source": [
    "## Implementation"
   ]
  },
  {
   "cell_type": "markdown",
   "metadata": {},
   "source": [
    "### Read data"
   ]
  },
  {
   "cell_type": "code",
   "execution_count": 31,
   "metadata": {},
   "outputs": [],
   "source": [
    "path = 'YOUR FILE PATH'\n",
    "file_name = 'YOUR FILE NAME'\n",
    "\n",
    "input_file = os.path.join(path, file_name)\n",
    "df = pd.read_csv(input_file)"
   ]
  },
  {
   "cell_type": "code",
   "execution_count": 32,
   "metadata": {},
   "outputs": [
    {
     "data": {
      "text/html": [
       "<div>\n",
       "<style scoped>\n",
       "    .dataframe tbody tr th:only-of-type {\n",
       "        vertical-align: middle;\n",
       "    }\n",
       "\n",
       "    .dataframe tbody tr th {\n",
       "        vertical-align: top;\n",
       "    }\n",
       "\n",
       "    .dataframe thead th {\n",
       "        text-align: right;\n",
       "    }\n",
       "</style>\n",
       "<table border=\"1\" class=\"dataframe\">\n",
       "  <thead>\n",
       "    <tr style=\"text-align: right;\">\n",
       "      <th></th>\n",
       "      <th>stock_id</th>\n",
       "      <th>date</th>\n",
       "      <th>open</th>\n",
       "      <th>close</th>\n",
       "      <th>returns</th>\n",
       "    </tr>\n",
       "  </thead>\n",
       "  <tbody>\n",
       "    <tr>\n",
       "      <th>0</th>\n",
       "      <td>688089.XSHG</td>\n",
       "      <td>2021-11-24 14:25:00</td>\n",
       "      <td>53.55</td>\n",
       "      <td>53.78</td>\n",
       "      <td>0.004295</td>\n",
       "    </tr>\n",
       "    <tr>\n",
       "      <th>1</th>\n",
       "      <td>688089.XSHG</td>\n",
       "      <td>2021-11-24 14:30:00</td>\n",
       "      <td>53.75</td>\n",
       "      <td>53.73</td>\n",
       "      <td>-0.000372</td>\n",
       "    </tr>\n",
       "    <tr>\n",
       "      <th>2</th>\n",
       "      <td>688089.XSHG</td>\n",
       "      <td>2021-11-24 14:35:00</td>\n",
       "      <td>53.73</td>\n",
       "      <td>53.55</td>\n",
       "      <td>-0.003350</td>\n",
       "    </tr>\n",
       "    <tr>\n",
       "      <th>3</th>\n",
       "      <td>688089.XSHG</td>\n",
       "      <td>2021-11-24 14:40:00</td>\n",
       "      <td>53.70</td>\n",
       "      <td>53.61</td>\n",
       "      <td>-0.001676</td>\n",
       "    </tr>\n",
       "    <tr>\n",
       "      <th>4</th>\n",
       "      <td>688089.XSHG</td>\n",
       "      <td>2021-11-24 14:45:00</td>\n",
       "      <td>53.62</td>\n",
       "      <td>53.67</td>\n",
       "      <td>0.000932</td>\n",
       "    </tr>\n",
       "  </tbody>\n",
       "</table>\n",
       "</div>"
      ],
      "text/plain": [
       "      stock_id                 date   open  close   returns\n",
       "0  688089.XSHG  2021-11-24 14:25:00  53.55  53.78  0.004295\n",
       "1  688089.XSHG  2021-11-24 14:30:00  53.75  53.73 -0.000372\n",
       "2  688089.XSHG  2021-11-24 14:35:00  53.73  53.55 -0.003350\n",
       "3  688089.XSHG  2021-11-24 14:40:00  53.70  53.61 -0.001676\n",
       "4  688089.XSHG  2021-11-24 14:45:00  53.62  53.67  0.000932"
      ]
     },
     "execution_count": 32,
     "metadata": {},
     "output_type": "execute_result"
    }
   ],
   "source": [
    "df.columns = ['stock_id', 'index_num', 'date', 'open', 'close']\n",
    "# df.set_index('stock_id', inplace=True)\n",
    "df.drop(columns=['index_num'], inplace=True)\n",
    "df['returns'] = df['close']/df['open']-1\n",
    "df.head()"
   ]
  },
  {
   "cell_type": "markdown",
   "metadata": {},
   "source": [
    "### Prepare the dataset"
   ]
  },
  {
   "cell_type": "code",
   "execution_count": 33,
   "metadata": {},
   "outputs": [],
   "source": [
    "stock_list = df['stock_id'].unique().tolist()\n",
    "keep_cols = ['date', 'returns']\n",
    "\n",
    "data = df[['date']].drop_duplicates()\n",
    "for i in range(len(stock_list)):\n",
    "    df1 = df[df['stock_id']==stock_list[i]][keep_cols]\n",
    "    df1.columns = ['date', stock_list[i]]\n",
    "    data = pd.merge(data, df1, on='date', how='left')\n",
    "\n",
    "# Prepare the dataset for the computing process\n",
    "data = data[0:5000]\n",
    "data.dropna(inplace=True, axis=1)\n",
    "data.set_index('date', inplace=True)"
   ]
  },
  {
   "cell_type": "markdown",
   "metadata": {},
   "source": [
    "### Compute the optimal weights"
   ]
  },
  {
   "cell_type": "code",
   "execution_count": 34,
   "metadata": {},
   "outputs": [],
   "source": [
    "# index_row = data.index\n",
    "# index_col = data.columns\n",
    "\n",
    "# data_T = pd.DataFrame(data.values.T, columns=index_row, index=index_col)\n",
    "# Sigma = data_T.corr()\n",
    "# Sigma_inv = pd.DataFrame(np.linalg.pinv(Sigma.values), columns=Sigma.columns, index=Sigma.index)\n",
    "\n",
    "# test_inv = Sigma_inv.dot(Sigma)\n",
    "\n",
    "# Calculate the covariance matrix of stock returns\n",
    "Sigma = data.corr()\n",
    "Sigma_inv = pd.DataFrame(np.linalg.pinv(Sigma.values), columns=Sigma.columns, index=Sigma.index).to_numpy()"
   ]
  },
  {
   "cell_type": "code",
   "execution_count": 35,
   "metadata": {},
   "outputs": [
    {
     "name": "stdout",
     "output_type": "stream",
     "text": [
      "[[0.11851668]\n",
      " [0.09194967]\n",
      " [0.07991533]\n",
      " [0.1574547 ]\n",
      " [0.04329583]\n",
      " [0.06184514]\n",
      " [0.06437801]\n",
      " [0.06400807]\n",
      " [0.09100592]\n",
      " [0.08134872]\n",
      " [0.06557228]\n",
      " [0.08070965]]\n",
      "Sum of weights:  1.0\n"
     ]
    }
   ],
   "source": [
    "# Get the optimal weight for each stock\n",
    "Identity = pd.DataFrame(np.ones([12,1]))\n",
    "Identity_T = pd.DataFrame(np.ones([1,12]))\n",
    "a = (Identity_T.dot(Sigma_inv)).dot(Identity).values\n",
    "weight_opt = Sigma_inv.dot(Identity) / a\n",
    "\n",
    "print(weight_opt)\n",
    "print('Sum of weights: ', weight_opt.sum())"
   ]
  }
 ],
 "metadata": {
  "kernelspec": {
   "display_name": "Python 3.9.2 64-bit",
   "language": "python",
   "name": "python3"
  },
  "language_info": {
   "codemirror_mode": {
    "name": "ipython",
    "version": 3
   },
   "file_extension": ".py",
   "mimetype": "text/x-python",
   "name": "python",
   "nbconvert_exporter": "python",
   "pygments_lexer": "ipython3",
   "version": "3.9.2"
  },
  "orig_nbformat": 4,
  "vscode": {
   "interpreter": {
    "hash": "aee8b7b246df8f9039afb4144a1f6fd8d2ca17a180786b69acc140d282b71a49"
   }
  }
 },
 "nbformat": 4,
 "nbformat_minor": 2
}
