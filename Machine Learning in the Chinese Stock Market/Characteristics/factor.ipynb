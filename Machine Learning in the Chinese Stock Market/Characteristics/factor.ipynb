{
 "cells": [
  {
   "cell_type": "code",
   "execution_count": 1,
   "metadata": {},
   "outputs": [],
   "source": [
    "import pandas as pd\n",
    "import numpy as np\n",
    "from scipy import stats\n",
    "\n",
    "import os\n",
    "\n",
    "data_path = '/Users/ryan/Documents/GitHub/Finance-Empirical-Studies/Machine Learning in the Chinese Stock Market/Data'"
   ]
  },
  {
   "cell_type": "markdown",
   "metadata": {},
   "source": [
    "## Variable Construction"
   ]
  },
  {
   "cell_type": "markdown",
   "metadata": {},
   "source": [
    "(1) $acc = [(\\Delta CA − \\Delta CASH) − (\\Delta CL −  \\Delta STD − \\Delta TP) − Dep]/Total Assets$\n",
    "\n",
    "CA, CASH, CL, STD, TP, Dep, denote current assets, cash/cash equivalents, current liabilities, debt included in current liabilities, income tax payable, depreciation and amortization expense, respectively.\n",
    "\n",
    "(2) $absacc$: Absolute value of $acc$\n",
    "\n",
    "(3) $agr$: Annual percentage change in total assets."
   ]
  },
  {
   "cell_type": "code",
   "execution_count": 2,
   "metadata": {},
   "outputs": [],
   "source": [
    "# Read data\n",
    "file_path = 'FI_T6/FI_T6.csv'\n",
    "FI_t6 = pd.read_csv(os.path.join(data_path, file_path))\n",
    "\n",
    "file_path = 'FS_Combas/FS_Combas.csv'\n",
    "FS_combas = pd.read_csv(os.path.join(data_path, file_path))\n",
    "\n",
    "# Process data\n",
    "FI_t6 = FI_t6[FI_t6['Typrep'] == 'A']\n",
    "FI_t6.rename(columns = {'F061201B': 'Dep'}, inplace=True)\n",
    "\n",
    "FS_combas = FS_combas[FS_combas['Typrep'] == 'A']\n",
    "FS_combas.rename(columns = {'A0b1103000': 'CASH', 'A001100000': 'CA', 'A001000000': 'TA', 'A001124000': 'STD', 'A002113000': 'TP', 'A002100000': 'CL'},\n",
    "                    inplace=True)\n",
    "\n",
    "# Calculate characteristics\n",
    "data = pd.merge(FI_t6[['Stkcd', 'Accper', 'Dep']], \n",
    "                FS_combas[['Stkcd', 'Accper', 'CASH', 'STD', 'CA', 'TA', 'TP', 'CL']],\n",
    "                on = ['Stkcd', 'Accper'],\n",
    "                how = 'left')\n",
    "\n",
    "data.fillna(0, inplace=True)\n",
    "#! Needs interpretation here: Can I use 0 to simply replace the null?\n",
    "\n",
    "data['acc'] = ((data['CA'] - data['CA'].shift(1))-\n",
    "                (data['CASH'] - data['CASH'].shift(1))-\n",
    "                ((data['CL'] - data['CL'].shift(1))-\n",
    "                (data['STD'] - data['STD'].shift(1))-\n",
    "                (data['TP'] - data['TP'].shift(1)))-\n",
    "                data['Dep'])/\\\n",
    "                data['TA']\n",
    "\n",
    "# factor values\n",
    "data['absacc'] = abs(data['acc'])\n",
    "\n",
    "data['agr'] = (data['TA'] - data['TA'].shift(1)) / data['TA'].shift(1)"
   ]
  },
  {
   "cell_type": "markdown",
   "metadata": {},
   "source": [
    "(4) $beta$: We estimate stock-level beta using weekly returns and value-weighted market returns for three years ending month $t − 1$ with at least 52 weeks of returns.\n",
    "\n",
    "(5) $betasq$: Stock-level market beta squared"
   ]
  },
  {
   "cell_type": "code",
   "execution_count": 21,
   "metadata": {},
   "outputs": [],
   "source": [
    "# read files\n",
    "file_path = 'TRD_Weekm/TRD_Weekm.csv'\n",
    "TRD_m = pd.read_csv(os.path.join(data_path, file_path))\n",
    "\n",
    "# # Combine all data files\n",
    "# file_list = ['TRD_Week/TRD_Week.csv', 'TRD_Week/TRD_Week1.csv', 'TRD_Week/TRD_Week2.csv']\n",
    "# # Then delete the .csv file\n",
    "# TRD = pd.DataFrame()\n",
    "# for inputfile in file_list:\n",
    "#     f = open(os.path.join(data_path, inputfile))\n",
    "#     df_c = pd.read_csv(f)\n",
    "#     df_m = pd.DataFrame(df_c)\n",
    "#     TRD = pd.concat([TRD, df_m])\n",
    "\n",
    "# TRD.reset_index(inplace=True)\n",
    "# TRD.to_feather(os.path.join(data_path, 'TRD_Week/TRD_Week.ftr'))\n",
    "\n",
    "file_path = 'TRD_Week/TRD_Week.ftr'\n",
    "TRD = pd.read_feather(os.path.join(data_path, file_path))\n",
    "\n",
    "# calculate stock return\n",
    "TRD['returns'] = TRD['Wclsprc']/TRD['Wopnprc'] - 1\n",
    "\n",
    "# merge two dataset\n",
    "TRD_m = TRD_m[TRD_m['Markettype'] == 53]\n",
    "TRD = pd.merge(TRD, TRD_m[['Trdwnt', 'Cwretmdos']], on='Trdwnt', how='left')\n",
    "\n",
    "# datetime processing\n",
    "TRD['Trdwnt'] = TRD['Trdwnt'].str[:4]+TRD['Trdwnt'].str[5:]\n",
    "TRD['Trdwnt'].astype(int)\n",
    "TRD['LastDayWeek'] = pd.to_datetime((TRD['Trdwnt']).astype(str)+'6', format=\"%Y%U%w\")\n",
    "TRD['year'] = TRD['LastDayWeek'].dt.year\n",
    "TRD['month'] = TRD['LastDayWeek'].dt.month\n",
    "TRD['YearMonth'] = TRD['year']*100+TRD['month']\n",
    "\n",
    "# calculate beta\n",
    "def cal_beta(stock,market):\n",
    "    beta, alpha, r_value, p_value, std_err = stats.linregress(market, stock)\n",
    "    return beta\n",
    "\n",
    "# final factor value\n",
    "Beta = TRD.groupby(['Stkcd', 'YearMonth']).apply(lambda x: cal_beta(x.returns, x.Cwretmdos))"
   ]
  },
  {
   "cell_type": "markdown",
   "metadata": {},
   "source": [
    "(6) $bm$: Book-to-market ratio. Data are directly aquired from CSMAR.\n",
    "\n",
    "(7) $bm\\_ia$: The industry-adjusted book-to-market ratio."
   ]
  },
  {
   "cell_type": "code",
   "execution_count": null,
   "metadata": {},
   "outputs": [],
   "source": [
    "# read file\n",
    "file_path = 'FI_T10/FI_T10.csv'\n",
    "FI_t10 = pd.read_csv(os.path.join(data_path, file_path))\n",
    "\n",
    "# get industry average book-to-market ratio\n",
    "FI_t10['Ind'] = FI_t10['Indcd'].str[0]\n",
    "FI_t10.rename(columns={'F101001A': 'bm'}, inplace=True)\n",
    "df_t10 = FI_t10[['Ind', 'Accper', 'bm']].groupby(['Ind', 'Accper']).mean()\n",
    "\n",
    "df_t10.reset_index(inplace=True)\n",
    "df_t10.rename(columns={'bm': 'bm_ind'}, inplace=True)\n",
    "FI_t10 = pd.merge(FI_t10, df_t10, on=['Ind', 'Accper'], how='left')\n",
    "\n",
    "# factor values\n",
    "FI_t10['bm_ia'] = FI_t10['bm'] - FI_t10['bm_ind']"
   ]
  },
  {
   "cell_type": "markdown",
   "metadata": {},
   "source": [
    "(60) $pctacc$: Change the denominator with the value of net income. If $NetInc = 0$, then, take $NetInc=0.01$"
   ]
  },
  {
   "cell_type": "code",
   "execution_count": 5,
   "metadata": {},
   "outputs": [],
   "source": [
    "# Read data\n",
    "file_path = 'FS_Comins/FS_Comins.csv'\n",
    "FS_comins = pd.read_csv(os.path.join(data_path, file_path))\n",
    "\n",
    "# Process data\n",
    "FS_comins = FS_comins[FS_comins['Typrep'] == 'A']\n",
    "FS_comins.rename(columns = {'B002000000': 'NetInc'}, inplace=True)\n",
    "\n",
    "# Calculate the characteristic\n",
    "data = pd.merge(data, FS_comins[['Stkcd', 'Accper', 'NetInc']],\n",
    "                on = ['Stkcd', 'Accper'],\n",
    "                how = 'left')\n",
    "    \n",
    "data['pctacc'] = ((data['CA'] - data['CA'].shift(1))-\n",
    "                (data['CASH'] - data['CASH'].shift(1))-\n",
    "                ((data['CL'] - data['CL'].shift(1))-\n",
    "                (data['STD'] - data['STD'].shift(1))-\n",
    "                (data['TP'] - data['TP'].shift(1)))-\n",
    "                data['Dep'])/\\\n",
    "                data['NetInc']      # Using the same formula as above (except changing the denominator)"
   ]
  }
 ],
 "metadata": {
  "kernelspec": {
   "display_name": "Python 3.9.2 64-bit",
   "language": "python",
   "name": "python3"
  },
  "language_info": {
   "codemirror_mode": {
    "name": "ipython",
    "version": 3
   },
   "file_extension": ".py",
   "mimetype": "text/x-python",
   "name": "python",
   "nbconvert_exporter": "python",
   "pygments_lexer": "ipython3",
   "version": "3.9.2"
  },
  "orig_nbformat": 4,
  "vscode": {
   "interpreter": {
    "hash": "aee8b7b246df8f9039afb4144a1f6fd8d2ca17a180786b69acc140d282b71a49"
   }
  }
 },
 "nbformat": 4,
 "nbformat_minor": 2
}
