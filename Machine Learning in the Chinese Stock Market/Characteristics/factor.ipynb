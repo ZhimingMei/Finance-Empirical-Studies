{
 "cells": [
  {
   "cell_type": "code",
   "execution_count": 19,
   "metadata": {},
   "outputs": [],
   "source": [
    "import pandas as pd\n",
    "import numpy as np\n",
    "import math\n",
    "from scipy import stats\n",
    "\n",
    "import os\n",
    "\n",
    "data_path = '/Users/ryan/Documents/GitHub/Finance-Empirical-Studies/Machine Learning in the Chinese Stock Market/Data'"
   ]
  },
  {
   "cell_type": "markdown",
   "metadata": {},
   "source": [
    "## Variable Construction"
   ]
  },
  {
   "cell_type": "markdown",
   "metadata": {},
   "source": [
    "(1) $acc = [(\\Delta CA − \\Delta CASH) − (\\Delta CL −  \\Delta STD − \\Delta TP) − Dep]/Total Assets$\n",
    "\n",
    "CA, CASH, CL, STD, TP, Dep, denote current assets, cash/cash equivalents, current liabilities, debt included in current liabilities, income tax payable, depreciation and amortization expense, respectively.\n",
    "\n",
    "(2) $absacc$: Absolute value of $acc$\n",
    "\n",
    "(3) $agr$: Annual percentage change in total assets."
   ]
  },
  {
   "cell_type": "code",
   "execution_count": 35,
   "metadata": {},
   "outputs": [],
   "source": [
    "# Read data\n",
    "file_path = 'FI_T6/FI_T6.csv'\n",
    "FI_t6 = pd.read_csv(os.path.join(data_path, file_path))\n",
    "\n",
    "file_path = 'FS_Combas/FS_Combas.csv'\n",
    "FS_combas = pd.read_csv(os.path.join(data_path, file_path))\n",
    "\n",
    "# Process data\n",
    "FI_t6 = FI_t6[FI_t6['Typrep'] == 'A']\n",
    "FI_t6.rename(columns = {'F061201B': 'Dep'}, inplace=True)\n",
    "\n",
    "FS_combas = FS_combas[FS_combas['Typrep'] == 'A']\n",
    "FS_combas.rename(columns = {'A0b1103000': 'CASH', \n",
    "                    'A001100000': 'CA', \n",
    "                    'A001000000': 'TA', \n",
    "                    'A001124000': 'STD', \n",
    "                    'A002113000': 'TP', \n",
    "                    'A002100000': 'CL'},\n",
    "                    inplace=True)\n",
    "\n",
    "# Calculate characteristics\n",
    "data = pd.merge(FI_t6[['Stkcd', 'Accper', 'Dep']], \n",
    "                FS_combas[['Stkcd', 'Accper', 'CASH', 'STD', 'CA', 'TA', 'TP', 'CL']],\n",
    "                on = ['Stkcd', 'Accper'],\n",
    "                how = 'left')\n",
    "\n",
    "data.fillna(0, inplace=True)\n",
    "#! Needs interpretation here: Can I use 0 to simply replace the null?\n",
    "\n",
    "data['acc'] = ((data['CA'] - data['CA'].shift(1))-\n",
    "                (data['CASH'] - data['CASH'].shift(1))-\n",
    "                ((data['CL'] - data['CL'].shift(1))-\n",
    "                (data['STD'] - data['STD'].shift(1))-\n",
    "                (data['TP'] - data['TP'].shift(1)))-\n",
    "                data['Dep'])/\\\n",
    "                data['TA']\n",
    "\n",
    "# factor values\n",
    "data['absacc'] = abs(data['acc'])\n",
    "\n",
    "data['agr'] = (data['TA'] - data['TA'].shift(1)) / data['TA'].shift(1)"
   ]
  },
  {
   "cell_type": "markdown",
   "metadata": {},
   "source": [
    "(4) $beta$: We estimate stock-level beta using weekly returns and value-weighted market returns for three years ending month $t − 1$ with at least 52 weeks of returns.\n",
    "\n",
    "(5) $betasq$: Stock-level market beta squared"
   ]
  },
  {
   "cell_type": "code",
   "execution_count": null,
   "metadata": {},
   "outputs": [],
   "source": [
    "# read files\n",
    "file_path = 'TRD_Weekm/TRD_Weekm.csv'\n",
    "TRD_w = pd.read_csv(os.path.join(data_path, file_path))\n",
    "\n",
    "# # Combine all data files\n",
    "# file_list = ['TRD_Week/TRD_Week.csv', 'TRD_Week/TRD_Week1.csv', 'TRD_Week/TRD_Week2.csv']\n",
    "# # Then delete the .csv file\n",
    "# TRD = pd.DataFrame()\n",
    "# for inputfile in file_list:\n",
    "#     f = open(os.path.join(data_path, inputfile))\n",
    "#     df_c = pd.read_csv(f)\n",
    "#     df_m = pd.DataFrame(df_c)\n",
    "#     TRD = pd.concat([TRD, df_m])\n",
    "\n",
    "# TRD.reset_index(inplace=True)\n",
    "# TRD.to_feather(os.path.join(data_path, 'TRD_Week/TRD_Week.ftr'))\n",
    "\n",
    "file_path = 'TRD_Week/TRD_Week.ftr'\n",
    "TRD = pd.read_feather(os.path.join(data_path, file_path))\n",
    "\n",
    "# calculate stock return\n",
    "TRD['returns'] = TRD['Wclsprc']/TRD['Wopnprc'] - 1\n",
    "\n",
    "# merge two dataset\n",
    "TRD_w = TRD_w[TRD_w['Markettype'] == 53]\n",
    "TRD = pd.merge(TRD, TRD_w[['Trdwnt', 'Cwretmdos']], on='Trdwnt', how='left')\n",
    "\n",
    "# datetime processing\n",
    "TRD['Trdwnt'] = TRD['Trdwnt'].str[:4]+TRD['Trdwnt'].str[5:]\n",
    "TRD['Trdwnt'].astype(int)\n",
    "TRD['LastDayWeek'] = pd.to_datetime((TRD['Trdwnt']).astype(str)+'6', format=\"%Y%U%w\")\n",
    "TRD['year'] = TRD['LastDayWeek'].dt.year\n",
    "TRD['month'] = TRD['LastDayWeek'].dt.month\n",
    "TRD['YearMonth'] = TRD['year']*100+TRD['month']\n",
    "\n",
    "# calculate beta\n",
    "def cal_beta(stock,market):\n",
    "    beta, alpha, r_value, p_value, std_err = stats.linregress(market, stock)\n",
    "    return beta\n",
    "\n",
    "# final factor value\n",
    "Beta = TRD.groupby(['Stkcd', 'YearMonth']).apply(lambda x: cal_beta(x.returns, x.Cwretmdos))"
   ]
  },
  {
   "cell_type": "markdown",
   "metadata": {},
   "source": [
    "(6) $bm$: Book-to-market ratio. Data are directly aquired from CSMAR.\n",
    "\n",
    "(7) $bm\\_ia$: The industry-adjusted book-to-market ratio."
   ]
  },
  {
   "cell_type": "code",
   "execution_count": null,
   "metadata": {},
   "outputs": [],
   "source": [
    "# read file\n",
    "file_path = 'FI_T10/FI_T10.csv'\n",
    "FI_t10 = pd.read_csv(os.path.join(data_path, file_path))\n",
    "\n",
    "# get industry average book-to-market ratio\n",
    "FI_t10['Ind'] = FI_t10['Indcd'].str[0]\n",
    "FI_t10.rename(columns={'F101001A': 'bm'}, inplace=True)\n",
    "df_t10 = FI_t10[['Ind', 'Accper', 'bm']].groupby(['Ind', 'Accper']).mean()\n",
    "\n",
    "df_t10.reset_index(inplace=True)\n",
    "df_t10.rename(columns={'bm': 'bm_ind'}, inplace=True)\n",
    "FI_t10 = pd.merge(FI_t10, df_t10, on=['Ind', 'Accper'], how='left')\n",
    "\n",
    "# factor values\n",
    "FI_t10['bm_ia'] = FI_t10['bm'] - FI_t10['bm_ind']"
   ]
  },
  {
   "attachments": {},
   "cell_type": "markdown",
   "metadata": {},
   "source": [
    "(8) $cash$: Cash and cash equivalents divided by average total assets\n",
    "\n",
    "**Problem**: CASH contains unexpected number of nulls."
   ]
  },
  {
   "cell_type": "code",
   "execution_count": null,
   "metadata": {},
   "outputs": [],
   "source": [
    "# Continued with Dataframe: data (see factor 1-3)\n",
    "data['cash'] = data['CASH']/data['TA']"
   ]
  },
  {
   "attachments": {},
   "cell_type": "markdown",
   "metadata": {},
   "source": [
    "(9) $cashdebt$: Earnings divided by total liabilities"
   ]
  },
  {
   "cell_type": "code",
   "execution_count": 8,
   "metadata": {},
   "outputs": [],
   "source": [
    "# Read data\n",
    "file_path = 'FS_Comins/FS_Comins.csv'\n",
    "FS_comins = pd.read_csv(os.path.join(data_path, file_path))\n",
    "\n",
    "FS_comins.rename(columns = {'B001100000': 'Earnings'}, inplace=True)\n",
    "FS_comins = pd.merge(FS_comins, FS_combas[['Stkcd', 'Accper' ,'CL']], on=['Stkcd', 'Accper'], how='left')\n",
    "\n",
    "# Calculate factor value\n",
    "FS_comins = FS_comins['Earnings']/FS_comins['CL']"
   ]
  },
  {
   "cell_type": "markdown",
   "metadata": {},
   "source": [
    "(60) $pctacc$: Change the denominator with the value of net income. If $NetInc = 0$, then, take $NetInc=0.01$"
   ]
  },
  {
   "cell_type": "code",
   "execution_count": 4,
   "metadata": {},
   "outputs": [],
   "source": [
    "# Process data\n",
    "FS_comins = FS_comins[FS_comins['Typrep'] == 'A']\n",
    "FS_comins.rename(columns = {'B002000000': 'NetInc'}, inplace=True)\n",
    "\n",
    "# Calculate the characteristic\n",
    "data = pd.merge(data, FS_comins[['Stkcd', 'Accper', 'NetInc']],\n",
    "                on = ['Stkcd', 'Accper'],\n",
    "                how = 'left')\n",
    "    \n",
    "data['pctacc'] = ((data['CA'] - data['CA'].shift(1))-\n",
    "                (data['CASH'] - data['CASH'].shift(1))-\n",
    "                ((data['CL'] - data['CL'].shift(1))-\n",
    "                (data['STD'] - data['STD'].shift(1))-\n",
    "                (data['TP'] - data['TP'].shift(1)))-\n",
    "                data['Dep'])/\\\n",
    "                data['NetInc']      # Using the same formula as above (except changing the denominator)"
   ]
  },
  {
   "attachments": {},
   "cell_type": "markdown",
   "metadata": {},
   "source": [
    "(10) $cashspr$: Cash productivity, which is defined as quarter-end       \n",
    "market capitalization $+$ long-term debt $-$ total assets / cash and equivalents."
   ]
  },
  {
   "cell_type": "code",
   "execution_count": 31,
   "metadata": {},
   "outputs": [],
   "source": [
    "# read file\n",
    "file_path = 'TRD_Mnth/TRD_Mnth.csv'\n",
    "TRD_m = pd.read_csv(os.path.join(data_path, file_path))\n",
    "\n",
    "# data process\n",
    "TRD_m.rename(columns = {'Msmvttl': 'MCap'}, inplace=True) # Market capitalization\n",
    "## compute quarter-end market capitalization using average\n",
    "TRD_m['month'] = TRD_m['Trdmnt'].str[5:]\n",
    "TRD_m['month'] = TRD_m['month'].apply(lambda x: int(x))\n",
    "TRD_m['quarter'] = TRD_m['month'].apply(lambda x: str(math.ceil(x/3)))\n",
    "TRD_m['Time'] = TRD_m['Trdmnt'].str[:4] + '-' + TRD_m['quarter']\n",
    "### compute the average\n",
    "TRD_m = TRD_m[['Stkcd', 'Time', 'MCap']].groupby(['Stkcd', 'Time']).mean()\n",
    "## reset index\n",
    "TRD_m.reset_index(inplace = True)"
   ]
  },
  {
   "cell_type": "code",
   "execution_count": 37,
   "metadata": {},
   "outputs": [
    {
     "data": {
      "text/html": [
       "<div>\n",
       "<style scoped>\n",
       "    .dataframe tbody tr th:only-of-type {\n",
       "        vertical-align: middle;\n",
       "    }\n",
       "\n",
       "    .dataframe tbody tr th {\n",
       "        vertical-align: top;\n",
       "    }\n",
       "\n",
       "    .dataframe thead th {\n",
       "        text-align: right;\n",
       "    }\n",
       "</style>\n",
       "<table border=\"1\" class=\"dataframe\">\n",
       "  <thead>\n",
       "    <tr style=\"text-align: right;\">\n",
       "      <th></th>\n",
       "      <th>Stkcd</th>\n",
       "      <th>Accper</th>\n",
       "      <th>Typrep</th>\n",
       "      <th>CASH</th>\n",
       "      <th>AR</th>\n",
       "      <th>IV</th>\n",
       "      <th>STD</th>\n",
       "      <th>CA</th>\n",
       "      <th>FA</th>\n",
       "      <th>TA</th>\n",
       "      <th>TP</th>\n",
       "      <th>CL</th>\n",
       "      <th>A002206000</th>\n",
       "      <th>ShortName</th>\n",
       "      <th>tang</th>\n",
       "    </tr>\n",
       "  </thead>\n",
       "  <tbody>\n",
       "    <tr>\n",
       "      <th>0</th>\n",
       "      <td>1</td>\n",
       "      <td>2000-01-01</td>\n",
       "      <td>A</td>\n",
       "      <td>8.393075e+09</td>\n",
       "      <td>-393380593.0</td>\n",
       "      <td>NaN</td>\n",
       "      <td>NaN</td>\n",
       "      <td>NaN</td>\n",
       "      <td>1.388777e+09</td>\n",
       "      <td>4.391239e+10</td>\n",
       "      <td>55561410.0</td>\n",
       "      <td>NaN</td>\n",
       "      <td>NaN</td>\n",
       "      <td>深发展A</td>\n",
       "      <td>NaN</td>\n",
       "    </tr>\n",
       "    <tr>\n",
       "      <th>1</th>\n",
       "      <td>1</td>\n",
       "      <td>2000-06-30</td>\n",
       "      <td>A</td>\n",
       "      <td>6.852420e+09</td>\n",
       "      <td>429777096.0</td>\n",
       "      <td>520448249.0</td>\n",
       "      <td>NaN</td>\n",
       "      <td>NaN</td>\n",
       "      <td>1.434032e+09</td>\n",
       "      <td>4.973234e+10</td>\n",
       "      <td>55263112.0</td>\n",
       "      <td>NaN</td>\n",
       "      <td>NaN</td>\n",
       "      <td>深发展A</td>\n",
       "      <td>7.444396e+09</td>\n",
       "    </tr>\n",
       "    <tr>\n",
       "      <th>2</th>\n",
       "      <td>1</td>\n",
       "      <td>2000-12-31</td>\n",
       "      <td>A</td>\n",
       "      <td>1.044581e+10</td>\n",
       "      <td>-396003224.0</td>\n",
       "      <td>NaN</td>\n",
       "      <td>NaN</td>\n",
       "      <td>NaN</td>\n",
       "      <td>1.587091e+09</td>\n",
       "      <td>6.722750e+10</td>\n",
       "      <td>58298123.0</td>\n",
       "      <td>NaN</td>\n",
       "      <td>NaN</td>\n",
       "      <td>深发展A</td>\n",
       "      <td>NaN</td>\n",
       "    </tr>\n",
       "    <tr>\n",
       "      <th>3</th>\n",
       "      <td>1</td>\n",
       "      <td>2001-01-01</td>\n",
       "      <td>A</td>\n",
       "      <td>1.044581e+10</td>\n",
       "      <td>23246566.0</td>\n",
       "      <td>NaN</td>\n",
       "      <td>NaN</td>\n",
       "      <td>NaN</td>\n",
       "      <td>1.587091e+09</td>\n",
       "      <td>6.600617e+10</td>\n",
       "      <td>58298123.0</td>\n",
       "      <td>NaN</td>\n",
       "      <td>NaN</td>\n",
       "      <td>深发展A</td>\n",
       "      <td>NaN</td>\n",
       "    </tr>\n",
       "    <tr>\n",
       "      <th>4</th>\n",
       "      <td>1</td>\n",
       "      <td>2001-06-30</td>\n",
       "      <td>A</td>\n",
       "      <td>1.169998e+10</td>\n",
       "      <td>-400131386.0</td>\n",
       "      <td>NaN</td>\n",
       "      <td>NaN</td>\n",
       "      <td>NaN</td>\n",
       "      <td>1.725761e+09</td>\n",
       "      <td>8.518143e+10</td>\n",
       "      <td>49625255.0</td>\n",
       "      <td>NaN</td>\n",
       "      <td>NaN</td>\n",
       "      <td>深发展A</td>\n",
       "      <td>NaN</td>\n",
       "    </tr>\n",
       "  </tbody>\n",
       "</table>\n",
       "</div>"
      ],
      "text/plain": [
       "   Stkcd      Accper Typrep          CASH           AR           IV  STD  CA  \\\n",
       "0      1  2000-01-01      A  8.393075e+09 -393380593.0          NaN  NaN NaN   \n",
       "1      1  2000-06-30      A  6.852420e+09  429777096.0  520448249.0  NaN NaN   \n",
       "2      1  2000-12-31      A  1.044581e+10 -396003224.0          NaN  NaN NaN   \n",
       "3      1  2001-01-01      A  1.044581e+10   23246566.0          NaN  NaN NaN   \n",
       "4      1  2001-06-30      A  1.169998e+10 -400131386.0          NaN  NaN NaN   \n",
       "\n",
       "             FA            TA          TP  CL  A002206000 ShortName  \\\n",
       "0  1.388777e+09  4.391239e+10  55561410.0 NaN         NaN      深发展A   \n",
       "1  1.434032e+09  4.973234e+10  55263112.0 NaN         NaN      深发展A   \n",
       "2  1.587091e+09  6.722750e+10  58298123.0 NaN         NaN      深发展A   \n",
       "3  1.587091e+09  6.600617e+10  58298123.0 NaN         NaN      深发展A   \n",
       "4  1.725761e+09  8.518143e+10  49625255.0 NaN         NaN      深发展A   \n",
       "\n",
       "           tang  \n",
       "0           NaN  \n",
       "1  7.444396e+09  \n",
       "2           NaN  \n",
       "3           NaN  \n",
       "4           NaN  "
      ]
     },
     "execution_count": 37,
     "metadata": {},
     "output_type": "execute_result"
    }
   ],
   "source": [
    "FS_combas.rename(columns = {'A002206000': 'LD'} # long-term debt\n",
    "                inplace = True)\n",
    "\n",
    "#! TO BE CONT'D\n",
    "#? How to convert the quarter type time to date type time"
   ]
  },
  {
   "attachments": {},
   "cell_type": "markdown",
   "metadata": {},
   "source": [
    "(83) $tang$: Below is the calculating formula\n",
    "\n",
    "Cash holdings + 0.75 $\\times$ receivables + 0.547 $\\times$ inventory + 0.53 $\\times$ fixed assets/total assets"
   ]
  },
  {
   "cell_type": "code",
   "execution_count": 36,
   "metadata": {},
   "outputs": [],
   "source": [
    "FS_combas.rename(columns = {'A001111000': 'AR',\n",
    "                         'A001123000': 'IV', \n",
    "                         'A001212000': 'FA'}, \n",
    "                         inplace=True)\n",
    "FS_combas['tang'] = FS_combas['CASH']+ 0.715*FS_combas['AR'] + 0.547*FS_combas['IV'] + 0.535*FS_combas['FA'] / FS_combas['TA']"
   ]
  }
 ],
 "metadata": {
  "kernelspec": {
   "display_name": "Python 3.9.2 64-bit",
   "language": "python",
   "name": "python3"
  },
  "language_info": {
   "codemirror_mode": {
    "name": "ipython",
    "version": 3
   },
   "file_extension": ".py",
   "mimetype": "text/x-python",
   "name": "python",
   "nbconvert_exporter": "python",
   "pygments_lexer": "ipython3",
   "version": "3.9.2"
  },
  "orig_nbformat": 4,
  "vscode": {
   "interpreter": {
    "hash": "aee8b7b246df8f9039afb4144a1f6fd8d2ca17a180786b69acc140d282b71a49"
   }
  }
 },
 "nbformat": 4,
 "nbformat_minor": 2
}
