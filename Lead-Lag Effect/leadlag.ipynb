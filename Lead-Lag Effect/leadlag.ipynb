{
 "cells": [
  {
   "cell_type": "markdown",
   "metadata": {},
   "source": [
    "### Introduction\n",
    "Stock pool: All A shares in Chinese Stock Market     \n",
    "Period: Weekly data during 2000-2021     \n",
    "Database: CSMAR (国泰安数据库)     \n",
    "Choosen Industries: 房地产开发（208），化学制剂（108），环保工程及服务（95），计算机设备（97），其他化学制品（163），其他专用机械（198），汽车零部件（191），软件开发（224），医疗器械（105），综合（169），IT服务（160）\n",
    "\n",
    "### Outline\n",
    "1. Data cleaning    \n",
    "2. Investigate the lead-lag effect in intra-industries perspective   \n",
    "3. Result I: Small firms have higher average return\n",
    "4. Result II: Autocorrelation coefficient declines with size\n",
    "5. VAR Test: Cross autocorrelations between lagged returns on big firms and current returns on small firms is greater than that between current returns on big firms and lagged returns on big firms\n",
    "\n",
    "### Industry focus\n",
    "In this empirical study, the exploitation of real estate industry is chosen as focus."
   ]
  },
  {
   "cell_type": "code",
   "execution_count": 1,
   "metadata": {},
   "outputs": [],
   "source": [
    "import pandas as pd\n",
    "from pandas import DataFrame\n",
    "import numpy as np\n",
    "import seaborn as sns\n",
    "import matplotlib.pyplot as plt\n",
    "\n",
    "from statsmodels.tsa.api import VAR\n",
    "from statsmodels.tsa.stattools import adfuller\n",
    "from statsmodels.tools.eval_measures import rmse, aic\n",
    "indclas = pd.read_csv('STK_INDUSTRYCLASS.csv')\n",
    "# indcount = indclas[['Symbol','IndustryCode']].groupby(['IndustryCode']).apply(lambda x:(x['IndustryCode'].count()))"
   ]
  },
  {
   "cell_type": "code",
   "execution_count": 2,
   "metadata": {},
   "outputs": [
    {
     "data": {
      "text/html": [
       "<div>\n",
       "<style scoped>\n",
       "    .dataframe tbody tr th:only-of-type {\n",
       "        vertical-align: middle;\n",
       "    }\n",
       "\n",
       "    .dataframe tbody tr th {\n",
       "        vertical-align: top;\n",
       "    }\n",
       "\n",
       "    .dataframe thead th {\n",
       "        text-align: right;\n",
       "    }\n",
       "</style>\n",
       "<table border=\"1\" class=\"dataframe\">\n",
       "  <thead>\n",
       "    <tr style=\"text-align: right;\">\n",
       "      <th></th>\n",
       "      <th>Symbol</th>\n",
       "      <th>Trdwnt</th>\n",
       "      <th>Wsmvosd</th>\n",
       "      <th>Wsmvttl</th>\n",
       "      <th>Wretnd</th>\n",
       "      <th>Year</th>\n",
       "      <th>Week</th>\n",
       "      <th>Time</th>\n",
       "      <th>InstitutionID</th>\n",
       "      <th>IndustryClassificationName</th>\n",
       "      <th>ImplementDate</th>\n",
       "      <th>IndustryName</th>\n",
       "    </tr>\n",
       "  </thead>\n",
       "  <tbody>\n",
       "    <tr>\n",
       "      <th>0</th>\n",
       "      <td>2</td>\n",
       "      <td>1991-05</td>\n",
       "      <td>406280.0</td>\n",
       "      <td>598489.62</td>\n",
       "      <td>NaN</td>\n",
       "      <td>1991</td>\n",
       "      <td>5</td>\n",
       "      <td>199105</td>\n",
       "      <td>101775</td>\n",
       "      <td>申银万国行业分类2014修订版</td>\n",
       "      <td>1991/1/29</td>\n",
       "      <td>房地产开发</td>\n",
       "    </tr>\n",
       "    <tr>\n",
       "      <th>1</th>\n",
       "      <td>2</td>\n",
       "      <td>1991-06</td>\n",
       "      <td>418320.0</td>\n",
       "      <td>616225.70</td>\n",
       "      <td>0.029635</td>\n",
       "      <td>1991</td>\n",
       "      <td>6</td>\n",
       "      <td>199106</td>\n",
       "      <td>101775</td>\n",
       "      <td>申银万国行业分类2014修订版</td>\n",
       "      <td>1991/1/29</td>\n",
       "      <td>房地产开发</td>\n",
       "    </tr>\n",
       "    <tr>\n",
       "      <th>2</th>\n",
       "      <td>2</td>\n",
       "      <td>1991-07</td>\n",
       "      <td>427000.0</td>\n",
       "      <td>629012.18</td>\n",
       "      <td>0.020750</td>\n",
       "      <td>1991</td>\n",
       "      <td>7</td>\n",
       "      <td>199107</td>\n",
       "      <td>101775</td>\n",
       "      <td>申银万国行业分类2014修订版</td>\n",
       "      <td>1991/1/29</td>\n",
       "      <td>房地产开发</td>\n",
       "    </tr>\n",
       "    <tr>\n",
       "      <th>3</th>\n",
       "      <td>2</td>\n",
       "      <td>1991-08</td>\n",
       "      <td>429240.0</td>\n",
       "      <td>632311.91</td>\n",
       "      <td>0.005246</td>\n",
       "      <td>1991</td>\n",
       "      <td>8</td>\n",
       "      <td>199108</td>\n",
       "      <td>101775</td>\n",
       "      <td>申银万国行业分类2014修订版</td>\n",
       "      <td>1991/1/29</td>\n",
       "      <td>房地产开发</td>\n",
       "    </tr>\n",
       "    <tr>\n",
       "      <th>4</th>\n",
       "      <td>2</td>\n",
       "      <td>1991-09</td>\n",
       "      <td>420280.0</td>\n",
       "      <td>619112.97</td>\n",
       "      <td>-0.020874</td>\n",
       "      <td>1991</td>\n",
       "      <td>9</td>\n",
       "      <td>199109</td>\n",
       "      <td>101775</td>\n",
       "      <td>申银万国行业分类2014修订版</td>\n",
       "      <td>1991/1/29</td>\n",
       "      <td>房地产开发</td>\n",
       "    </tr>\n",
       "  </tbody>\n",
       "</table>\n",
       "</div>"
      ],
      "text/plain": [
       "   Symbol   Trdwnt   Wsmvosd    Wsmvttl    Wretnd  Year  Week    Time  \\\n",
       "0       2  1991-05  406280.0  598489.62       NaN  1991     5  199105   \n",
       "1       2  1991-06  418320.0  616225.70  0.029635  1991     6  199106   \n",
       "2       2  1991-07  427000.0  629012.18  0.020750  1991     7  199107   \n",
       "3       2  1991-08  429240.0  632311.91  0.005246  1991     8  199108   \n",
       "4       2  1991-09  420280.0  619112.97 -0.020874  1991     9  199109   \n",
       "\n",
       "   InstitutionID IndustryClassificationName ImplementDate IndustryName  \n",
       "0         101775            申银万国行业分类2014修订版     1991/1/29        房地产开发  \n",
       "1         101775            申银万国行业分类2014修订版     1991/1/29        房地产开发  \n",
       "2         101775            申银万国行业分类2014修订版     1991/1/29        房地产开发  \n",
       "3         101775            申银万国行业分类2014修订版     1991/1/29        房地产开发  \n",
       "4         101775            申银万国行业分类2014修订版     1991/1/29        房地产开发  "
      ]
     },
     "execution_count": 2,
     "metadata": {},
     "output_type": "execute_result"
    }
   ],
   "source": [
    "# merge tables\n",
    "trdweek = pd.read_csv('TRD_Week.csv')\n",
    "trdweek['Time'] = trdweek['Year']*100+trdweek['Week']\n",
    "\n",
    "df = pd.merge(trdweek,indclas, on='Symbol',how='left')\n",
    "df.dropna()\n",
    "\n",
    "# Change the industry name here to see other results\n",
    "df1 = df[df['IndustryName']=='房地产开发']\n",
    "df1.head()"
   ]
  },
  {
   "cell_type": "code",
   "execution_count": 3,
   "metadata": {},
   "outputs": [
    {
     "data": {
      "text/plain": [
       "[-0.00010113337585100114,\n",
       " -9.942029979823075e-06,\n",
       " 0.0042556727965385385,\n",
       " 0.000954798854968829,\n",
       " -0.0009765601017994712,\n",
       " 0.014011337378988539,\n",
       " -0.021278024874936387,\n",
       " -0.01052593256094942,\n",
       " -0.007875414081269055,\n",
       " -0.007250006414041653,\n",
       " -0.012300198994262164,\n",
       " 0.0014641277203604735,\n",
       " -0.0030096001389214744,\n",
       " 0.0024930183922161255,\n",
       " -0.00936223596639598,\n",
       " -0.0037272537466162122,\n",
       " 0.007425501485319193,\n",
       " 0.004953318270766742,\n",
       " 0.0030403324701590664,\n",
       " 0.0030682553672347524,\n",
       " 0.00719931222573445]"
      ]
     },
     "execution_count": 3,
     "metadata": {},
     "output_type": "execute_result"
    }
   ],
   "source": [
    "# Verify the first conclusion: \n",
    "# Small firms have higher average return\n",
    "difference = []\n",
    "for i in range(10,31): # Year--Range (2010-2021)\n",
    "    df2 = df1[df1['Year']==1991+i]\n",
    "    AvgMarket = DataFrame(df2[['Symbol','Wsmvosd','Year']].groupby(['Symbol','Year']).apply(lambda x:(x['Wsmvosd'].mean())).reset_index())\n",
    "    cols = ['Symbol','Year','AvgMarket']\n",
    "    AvgMarket.columns = cols\n",
    "    AvgReturn = DataFrame(df2[['Symbol','Wretnd','Year']].groupby(['Symbol','Year']).apply(lambda x:(x['Wretnd'].mean())).reset_index())\n",
    "    cols = ['Symbol','Year','AvgReturn']\n",
    "    AvgReturn.columns = cols\n",
    "    df3 = pd.merge(AvgMarket, AvgReturn, on='Symbol', how='left')\n",
    "    # df3.sort_values(by='AvgMarket',ascending=False,inplace=True)\n",
    "    highgroup_ret = df3['AvgReturn'][df3.AvgMarket.rank(pct=True)>=0.7].mean()\n",
    "    lowgroup_ret = df3['AvgReturn'][df3.AvgMarket.rank(pct=True)<=0.3].mean()\n",
    "    difference.append(highgroup_ret-lowgroup_ret)\n",
    "difference"
   ]
  },
  {
   "cell_type": "code",
   "execution_count": 4,
   "metadata": {},
   "outputs": [
    {
     "name": "stderr",
     "output_type": "stream",
     "text": [
      "<ipython-input-4-40f65c37d4c8>:14: RuntimeWarning: invalid value encountered in true_divide\n",
      "  result = np.correlate(x, x, mode = 'full')[-n+1:-n+lags+1]/\\\n"
     ]
    },
    {
     "data": {
      "text/html": [
       "<div>\n",
       "<style scoped>\n",
       "    .dataframe tbody tr th:only-of-type {\n",
       "        vertical-align: middle;\n",
       "    }\n",
       "\n",
       "    .dataframe tbody tr th {\n",
       "        vertical-align: top;\n",
       "    }\n",
       "\n",
       "    .dataframe thead th {\n",
       "        text-align: right;\n",
       "    }\n",
       "</style>\n",
       "<table border=\"1\" class=\"dataframe\">\n",
       "  <thead>\n",
       "    <tr style=\"text-align: right;\">\n",
       "      <th></th>\n",
       "      <th>Symbol</th>\n",
       "      <th>Year_x</th>\n",
       "      <th>AutoCorr</th>\n",
       "      <th>Year_y</th>\n",
       "      <th>AvgMarket</th>\n",
       "    </tr>\n",
       "  </thead>\n",
       "  <tbody>\n",
       "    <tr>\n",
       "      <th>145</th>\n",
       "      <td>600634</td>\n",
       "      <td>2021</td>\n",
       "      <td>[0.6663887222671467]</td>\n",
       "      <td>2021</td>\n",
       "      <td>199038.802857</td>\n",
       "    </tr>\n",
       "    <tr>\n",
       "      <th>118</th>\n",
       "      <td>600247</td>\n",
       "      <td>2021</td>\n",
       "      <td>[-0.508237199867358]</td>\n",
       "      <td>2021</td>\n",
       "      <td>299012.472500</td>\n",
       "    </tr>\n",
       "    <tr>\n",
       "      <th>57</th>\n",
       "      <td>760</td>\n",
       "      <td>2021</td>\n",
       "      <td>[0.6243896425330375]</td>\n",
       "      <td>2021</td>\n",
       "      <td>325352.294286</td>\n",
       "    </tr>\n",
       "    <tr>\n",
       "      <th>155</th>\n",
       "      <td>600687</td>\n",
       "      <td>2021</td>\n",
       "      <td>[-0.04131367413278824]</td>\n",
       "      <td>2021</td>\n",
       "      <td>455919.061250</td>\n",
       "    </tr>\n",
       "    <tr>\n",
       "      <th>90</th>\n",
       "      <td>300917</td>\n",
       "      <td>2021</td>\n",
       "      <td>[-0.15412032464114456]</td>\n",
       "      <td>2021</td>\n",
       "      <td>844845.112500</td>\n",
       "    </tr>\n",
       "  </tbody>\n",
       "</table>\n",
       "</div>"
      ],
      "text/plain": [
       "     Symbol  Year_x                AutoCorr  Year_y      AvgMarket\n",
       "145  600634    2021    [0.6663887222671467]    2021  199038.802857\n",
       "118  600247    2021    [-0.508237199867358]    2021  299012.472500\n",
       "57      760    2021    [0.6243896425330375]    2021  325352.294286\n",
       "155  600687    2021  [-0.04131367413278824]    2021  455919.061250\n",
       "90   300917    2021  [-0.15412032464114456]    2021  844845.112500"
      ]
     },
     "execution_count": 4,
     "metadata": {},
     "output_type": "execute_result"
    }
   ],
   "source": [
    "# Verify the second conclusion:\n",
    "# Autocorrelation coefficient declines with size\n",
    "\n",
    "def autocorrelation(x,lags):\n",
    "\t'''\n",
    "\tCalculate lags order autocorrelations\n",
    "\tReturn lags value\n",
    "\tSeries mean and variance constant\n",
    "\t'''\n",
    "\tn = len(x)\n",
    "\tx = np.array(x)\n",
    "\tvariance = x.var()\n",
    "\tx = x-x.mean()\n",
    "\tresult = np.correlate(x, x, mode = 'full')[-n+1:-n+lags+1]/\\\n",
    "\t\t(variance*(np.arange(n-1,n-1-lags,-1)))\n",
    "\treturn result\n",
    "\n",
    "for i in range(10,31):\n",
    "\tdf2 = df1[df1['Year']==1991+i]\n",
    "\tautocorr = DataFrame(df2[['Symbol','Year','Wretnd']].groupby(['Symbol','Year']).apply(lambda x:(autocorrelation(x['Wretnd'],1))).reset_index())\n",
    "\tcols = ['Symbol','Year','AutoCorr']\n",
    "\tautocorr.columns = cols\n",
    "\tautocorr = pd.merge(autocorr, AvgMarket, on='Symbol', how='left')\n",
    "\tautocorr.sort_values(by='AvgMarket',ascending=True,inplace=True)\n",
    "autocorr.head()"
   ]
  },
  {
   "cell_type": "code",
   "execution_count": 5,
   "metadata": {},
   "outputs": [
    {
     "data": {
      "image/png": "[encoded data removed]",
      "text/plain": [
       "<Figure size 432x288 with 1 Axes>"
      ]
     },
     "metadata": {
      "needs_background": "light"
     },
     "output_type": "display_data"
    },
    {
     "data": {
      "image/png": "[encoded data removed]",
      "text/plain": [
       "<Figure size 432x288 with 1 Axes>"
      ]
     },
     "metadata": {
      "needs_background": "light"
     },
     "output_type": "display_data"
    }
   ],
   "source": [
    "# Plot the results\n",
    "from sklearn.linear_model import LinearRegression\n",
    "\n",
    "d1 = autocorr['AvgMarket'].__array__().reshape(-1,1)\n",
    "d2 = autocorr['AutoCorr'].__array__().reshape(-1,1)\n",
    "\n",
    "reg=LinearRegression()\n",
    "reg.fit(d1,d2)\n",
    "plt.plot(d1,reg.predict(d1),color=\"red\")\n",
    "plt.show()\n",
    "plt.scatter(d1[:60], d2[:60], color='red', marker='o')\n",
    "plt.scatter(d1[60:120], d2[60:120], color='blue', marker='x')\n",
    "plt.scatter(d1[120:180], d2[120:180], color='green', marker='+')\n",
    "plt.show()\n",
    "# sns.regplot(x=d1, y=d2, marker='+', label='Distribution Dots', truncate=False, line_kws={'label': 'Regression Line'})"
   ]
  },
  {
   "cell_type": "markdown",
   "metadata": {},
   "source": [
    "### Verify the third result: (VAR Test)\n",
    "Cross autocorrelation coefficient between lagged returns on big firms and current returns on small firms is greater than that between current returns on big firms and lagged returns on big firms."
   ]
  },
  {
   "cell_type": "code",
   "execution_count": 6,
   "metadata": {},
   "outputs": [
    {
     "data": {
      "text/html": [
       "<div>\n",
       "<style scoped>\n",
       "    .dataframe tbody tr th:only-of-type {\n",
       "        vertical-align: middle;\n",
       "    }\n",
       "\n",
       "    .dataframe tbody tr th {\n",
       "        vertical-align: top;\n",
       "    }\n",
       "\n",
       "    .dataframe thead th {\n",
       "        text-align: right;\n",
       "    }\n",
       "</style>\n",
       "<table border=\"1\" class=\"dataframe\">\n",
       "  <thead>\n",
       "    <tr style=\"text-align: right;\">\n",
       "      <th></th>\n",
       "      <th>LastDayWeek</th>\n",
       "      <th>HighgroupRet</th>\n",
       "      <th>LowgroupRet</th>\n",
       "    </tr>\n",
       "  </thead>\n",
       "  <tbody>\n",
       "    <tr>\n",
       "      <th>60367</th>\n",
       "      <td>2020-01-04</td>\n",
       "      <td>0.038095</td>\n",
       "      <td>0.002020</td>\n",
       "    </tr>\n",
       "    <tr>\n",
       "      <th>60368</th>\n",
       "      <td>2020-01-04</td>\n",
       "      <td>-0.008889</td>\n",
       "      <td>-0.029720</td>\n",
       "    </tr>\n",
       "    <tr>\n",
       "      <th>60369</th>\n",
       "      <td>2020-01-04</td>\n",
       "      <td>0.003135</td>\n",
       "      <td>0.076433</td>\n",
       "    </tr>\n",
       "    <tr>\n",
       "      <th>60370</th>\n",
       "      <td>2020-01-04</td>\n",
       "      <td>-0.010589</td>\n",
       "      <td>0.027106</td>\n",
       "    </tr>\n",
       "    <tr>\n",
       "      <th>60371</th>\n",
       "      <td>2020-01-04</td>\n",
       "      <td>0.003049</td>\n",
       "      <td>0.034483</td>\n",
       "    </tr>\n",
       "  </tbody>\n",
       "</table>\n",
       "</div>"
      ],
      "text/plain": [
       "      LastDayWeek  HighgroupRet  LowgroupRet\n",
       "60367  2020-01-04      0.038095     0.002020\n",
       "60368  2020-01-04     -0.008889    -0.029720\n",
       "60369  2020-01-04      0.003135     0.076433\n",
       "60370  2020-01-04     -0.010589     0.027106\n",
       "60371  2020-01-04      0.003049     0.034483"
      ]
     },
     "execution_count": 6,
     "metadata": {},
     "output_type": "execute_result"
    }
   ],
   "source": [
    "# Derive the main table\n",
    "highcols = ['HighSymbol', 'HighgroupRet','Time']\n",
    "lowcols = ['LowSymbol', 'LowgroupRet']\n",
    "# high = DataFrame(columns=highcols)\n",
    "# low = DataFrame(columns=lowcols)\n",
    "maincols = ['HighSymbol', 'HighgroupRet', 'Time', 'LowSymbol', 'LowgroupRet']\n",
    "maindf = DataFrame(columns=maincols)\n",
    "for i in range(2000):     # 2000 iterations\n",
    "    df2 = df1[df1['Time']==200002+i]\n",
    "    highgroup = DataFrame(df2['Symbol'][df2.Wsmvosd.rank(pct=True)>=0.7])\n",
    "    merge1 = pd.merge(highgroup, df2[['Symbol','Wretnd','Time']], on='Symbol', how='left')\n",
    "    merge1.columns = highcols\n",
    "    # high = pd.merge(high, merge1, how='outer')\n",
    "\n",
    "    lowgroup = DataFrame(df2['Symbol'][df2.Wsmvosd.rank(pct=True)<=0.3])\n",
    "    merge2 = pd.merge(lowgroup, df2[['Symbol','Wretnd']], on='Symbol', how='left')    \n",
    "    merge2.columns = lowcols\n",
    "    # low = pd.merge(low, merge2, how='outer')\n",
    "    result = pd.concat([merge1,merge2],axis=1).dropna()\n",
    "    maindf = pd.merge(maindf, result, how='outer')\n",
    "\n",
    "# Datetime transformation\n",
    "maindf['Time'] = maindf['Time'].astype(int)\n",
    "maindf['LastDayWeek'] = pd.to_datetime((maindf['Time']-1).astype(str) + \"6\", format=\"%Y%U%w\")\n",
    "maindf = maindf[['LastDayWeek','HighgroupRet','LowgroupRet']]\n",
    "maindf.to_csv('VARtest.csv', index=False)\n",
    "maindf.tail()"
   ]
  },
  {
   "cell_type": "code",
   "execution_count": 7,
   "metadata": {},
   "outputs": [
    {
     "data": {
      "image/png": "[encoded data removed]",
      "text/plain": [
       "<Figure size 1200x720 with 2 Axes>"
      ]
     },
     "metadata": {
      "needs_background": "light"
     },
     "output_type": "display_data"
    }
   ],
   "source": [
    "# Visualize the Time Series\n",
    "# df = maindf[['LastDayWeek','HighgroupRet','LowgroupRet']]\n",
    "\n",
    "df = pd.read_csv('VARtest.csv', parse_dates=['LastDayWeek'], index_col='LastDayWeek')\n",
    "fig, axes = plt.subplots(nrows=1, ncols=2, dpi=120, figsize=(10,6))\n",
    "for i, ax in enumerate(axes.flatten()):\n",
    "    data=df[df.columns[i]]\n",
    "    ax.plot(data, color='red', linewidth=1)\n",
    "    #decorations\n",
    "    ax.set_title(df.columns[i])\n",
    "    ax.xaxis.set_ticks_position('none')\n",
    "    ax.yaxis.set_ticks_position('none')\n",
    "    ax.spines['top'].set_alpha(0)\n",
    "    ax.tick_params(labelsize=6)\n",
    "    \n",
    "    plt.tight_layout()\n"
   ]
  },
  {
   "cell_type": "code",
   "execution_count": 8,
   "metadata": {},
   "outputs": [
    {
     "data": {
      "text/html": [
       "<div>\n",
       "<style scoped>\n",
       "    .dataframe tbody tr th:only-of-type {\n",
       "        vertical-align: middle;\n",
       "    }\n",
       "\n",
       "    .dataframe tbody tr th {\n",
       "        vertical-align: top;\n",
       "    }\n",
       "\n",
       "    .dataframe thead th {\n",
       "        text-align: right;\n",
       "    }\n",
       "</style>\n",
       "<table border=\"1\" class=\"dataframe\">\n",
       "  <thead>\n",
       "    <tr style=\"text-align: right;\">\n",
       "      <th></th>\n",
       "      <th>HighgroupRet_x</th>\n",
       "      <th>LowgroupRet_x</th>\n",
       "    </tr>\n",
       "  </thead>\n",
       "  <tbody>\n",
       "    <tr>\n",
       "      <th>HighgroupRet_y</th>\n",
       "      <td>1.0</td>\n",
       "      <td>0.0</td>\n",
       "    </tr>\n",
       "    <tr>\n",
       "      <th>LowgroupRet_y</th>\n",
       "      <td>0.0</td>\n",
       "      <td>1.0</td>\n",
       "    </tr>\n",
       "  </tbody>\n",
       "</table>\n",
       "</div>"
      ],
      "text/plain": [
       "                HighgroupRet_x  LowgroupRet_x\n",
       "HighgroupRet_y             1.0            0.0\n",
       "LowgroupRet_y              0.0            1.0"
      ]
     },
     "execution_count": 8,
     "metadata": {},
     "output_type": "execute_result"
    }
   ],
   "source": [
    "# Testing Causation using Granger's Causality Test\n",
    "from statsmodels.tsa.stattools import grangercausalitytests\n",
    "maxlag=12\n",
    "test = 'ssr_chi2test'\n",
    "def grangers_causation_matrix(data, variables, test='ssr_chi2test', verbose=False):    \n",
    "    \"\"\"\n",
    "    data      : pandas dataframe containing the time series variables\n",
    "    variables : list containing names of the time series variables.\n",
    "    \"\"\"\n",
    "    df = pd.DataFrame(np.zeros((len(variables), len(variables))), columns=variables, index=variables)\n",
    "    for c in df.columns:\n",
    "        for r in df.index:\n",
    "            test_result = grangercausalitytests(data[[r, c]], maxlag=maxlag, verbose=False)\n",
    "            p_values = [round(test_result[i+1][0][test][1],4) for i in range(maxlag)]\n",
    "            if verbose: print(f'Y = {r}, X = {c}, P Values = {p_values}')\n",
    "            min_p_value = np.min(p_values)\n",
    "            df.loc[r, c] = min_p_value\n",
    "    df.columns = [var + '_x' for var in variables]\n",
    "    df.index = [var + '_y' for var in variables]\n",
    "    return df\n",
    "\n",
    "grangers_causation_matrix(df, variables = df.columns)  "
   ]
  },
  {
   "cell_type": "code",
   "execution_count": 9,
   "metadata": {},
   "outputs": [
    {
     "name": "stdout",
     "output_type": "stream",
     "text": [
      "Name   ::  Test Stat > C(95%)    =>   Signif  \n",
      " ----------------------------------------\n",
      "HighgroupRet ::  8577.96   > 12.3212   =>   True\n",
      "LowgroupRet ::  1949.12   > 4.1296    =>   True\n"
     ]
    }
   ],
   "source": [
    "# Cointegration Test\n",
    "from statsmodels.tsa.vector_ar.vecm import coint_johansen\n",
    "\n",
    "def cointegration_test(df, alpha=0.05): \n",
    "    \"\"\"Perform Johanson's Cointegration Test and Report Summary\"\"\"\n",
    "    out = coint_johansen(df,-1,5)\n",
    "    d = {'0.90':0, '0.95':1, '0.99':2}\n",
    "    traces = out.lr1\n",
    "    cvts = out.cvt[:, d[str(1-alpha)]]\n",
    "    def adjust(val, length= 6): return str(val).ljust(length)\n",
    "\n",
    "    # Summary\n",
    "    print('Name   ::  Test Stat > C(95%)    =>   Signif  \\n', '--'*20)\n",
    "    for col, trace, cvt in zip(df.columns, traces, cvts):\n",
    "        print(adjust(col), ':: ', adjust(round(trace,2), 9), \">\", adjust(cvt, 8), ' =>  ' , trace > cvt)\n",
    "\n",
    "cointegration_test(df)\n",
    "def adjust(val, length= 6): return str(val).ljust(length)"
   ]
  },
  {
   "cell_type": "markdown",
   "metadata": {},
   "source": [
    "### Check for stationarity\n",
    "Here, Augmented Dickey-Fuller Test (ADF Test) is implemented"
   ]
  },
  {
   "cell_type": "code",
   "execution_count": 10,
   "metadata": {},
   "outputs": [
    {
     "name": "stdout",
     "output_type": "stream",
     "text": [
      "    Augmented Dickey-Fuller Test on \"HighgroupRet\" \n",
      "    -----------------------------------------------\n",
      " Null Hypothesis: Data has unit root. Non-Stationary.\n",
      " Significance Level    = 0.05\n",
      " Test Statistic        = -25.047\n",
      " No. Lags Chosen       = 60\n",
      " Critical value 1%     = -3.43\n",
      " Critical value 5%     = -2.862\n",
      " Critical value 10%    = -2.567\n",
      " => P-Value = 0.0. Rejecting Null Hypothesis.\n",
      " => Series is Stationary.\n",
      "\n",
      "\n",
      "    Augmented Dickey-Fuller Test on \"LowgroupRet\" \n",
      "    -----------------------------------------------\n",
      " Null Hypothesis: Data has unit root. Non-Stationary.\n",
      " Significance Level    = 0.05\n",
      " Test Statistic        = -24.0041\n",
      " No. Lags Chosen       = 55\n",
      " Critical value 1%     = -3.43\n",
      " Critical value 5%     = -2.862\n",
      " Critical value 10%    = -2.567\n",
      " => P-Value = 0.0. Rejecting Null Hypothesis.\n",
      " => Series is Stationary.\n",
      "\n",
      "\n"
     ]
    }
   ],
   "source": [
    "nobs = 20      # fit the model and forecast the next 20 observations\n",
    "df_train, df_test = df[0:-nobs], df[-nobs:]\n",
    "\n",
    "# # Check size\n",
    "# print(df_train.shape)  # (60352, 2)\n",
    "# print(df_test.shape)  # (20, 2)\n",
    "def adfuller_test(series, signif=0.05, name='', verbose=False):\n",
    "    \"\"\"Perform ADFuller to test for Stationarity of given series and print report\"\"\"\n",
    "    r = adfuller(series, autolag='AIC')\n",
    "    output = {'test_statistic':round(r[0], 4), 'pvalue':round(r[1], 4), 'n_lags':round(r[2], 4), 'n_obs':r[3]}\n",
    "    p_value = output['pvalue'] \n",
    "    def adjust(val, length= 6): return str(val).ljust(length)\n",
    "\n",
    "    # Print Summary\n",
    "    print(f'    Augmented Dickey-Fuller Test on \"{name}\"', \"\\n   \", '-'*47)\n",
    "    print(f' Null Hypothesis: Data has unit root. Non-Stationary.')\n",
    "    print(f' Significance Level    = {signif}')\n",
    "    print(f' Test Statistic        = {output[\"test_statistic\"]}')\n",
    "    print(f' No. Lags Chosen       = {output[\"n_lags\"]}')\n",
    "\n",
    "    for key,val in r[4].items():\n",
    "        print(f' Critical value {adjust(key)} = {round(val, 3)}')\n",
    "\n",
    "    if p_value <= signif:\n",
    "        print(f\" => P-Value = {p_value}. Rejecting Null Hypothesis.\")\n",
    "        print(f\" => Series is Stationary.\")\n",
    "    else:\n",
    "        print(f\" => P-Value = {p_value}. Weak evidence to reject the Null Hypothesis.\")\n",
    "        print(f\" => Series is Non-Stationary.\")    \n",
    "\n",
    "for name, column in df_train.iteritems():\n",
    "    adfuller_test(column, name=column.name)\n",
    "    print('\\n')"
   ]
  },
  {
   "cell_type": "code",
   "execution_count": 11,
   "metadata": {},
   "outputs": [
    {
     "name": "stdout",
     "output_type": "stream",
     "text": [
      "Lag Order = 1\n",
      "AIC:  -10.607099461439477\n",
      "BIC :  -10.606203907152416\n",
      "FPE :  2.4739745910634533e-05\n",
      "HQIC:  -10.606821365068011 \n",
      "\n"
     ]
    },
    {
     "name": "stderr",
     "output_type": "stream",
     "text": [
      "/Library/Frameworks/Python.framework/Versions/3.9/lib/python3.9/site-packages/statsmodels/tsa/base/tsa_model.py:471: ValueWarning: A date index has been provided, but it has no associated frequency information and so will be ignored when e.g. forecasting.\n",
      "  self._init_dates(dates, freq)\n"
     ]
    },
    {
     "name": "stdout",
     "output_type": "stream",
     "text": [
      "Lag Order = 2\n",
      "AIC:  -10.720060865878866\n",
      "BIC :  -10.718568253413824\n",
      "FPE :  2.2097173227529528e-05\n",
      "HQIC:  -10.719597364745171 \n",
      "\n",
      "Lag Order = 3\n",
      "AIC:  -10.759181439700912\n",
      "BIC :  -10.757091751467646\n",
      "FPE :  2.1249409744716935e-05\n",
      "HQIC:  -10.758532528059664 \n",
      "\n",
      "Lag Order = 4\n",
      "AIC:  -10.770994498456293\n",
      "BIC :  -10.768307716863742\n",
      "FPE :  2.0999866057995742e-05\n",
      "HQIC:  -10.770160170561896 \n",
      "\n",
      "Lag Order = 5\n",
      "AIC:  -10.781724190528475\n",
      "BIC :  -10.778440297984755\n",
      "FPE :  2.077574846822392e-05\n",
      "HQIC:  -10.780704440635054 \n",
      "\n",
      "Lag Order = 6\n",
      "AIC:  -10.79113164022951\n",
      "BIC :  -10.78725061914192\n",
      "FPE :  2.0581218111550317e-05\n",
      "HQIC:  -10.78992646259092 \n",
      "\n",
      "Lag Order = 7\n",
      "AIC:  -10.798345075008148\n",
      "BIC :  -10.793866907783167\n",
      "FPE :  2.0433291009865876e-05\n",
      "HQIC:  -10.796954463877967 \n",
      "\n",
      "Lag Order = 8\n",
      "AIC:  -10.803132643904215\n",
      "BIC :  -10.798057312947499\n",
      "FPE :  2.0335699022162708e-05\n",
      "HQIC:  -10.801556593535745 \n",
      "\n",
      "Lag Order = 9\n",
      "AIC:  -10.80809938819137\n",
      "BIC :  -10.802426875907754\n",
      "FPE :  2.023494721680218e-05\n",
      "HQIC:  -10.806337892837638 \n",
      "\n",
      "Lag Order = 10\n",
      "AIC:  -10.811411745136372\n",
      "BIC :  -10.805142033929878\n",
      "FPE :  2.0168032732659987e-05\n",
      "HQIC:  -10.809464799050133 \n",
      "\n",
      "Lag Order = 11\n",
      "AIC:  -10.813198668706319\n",
      "BIC :  -10.806331740980143\n",
      "FPE :  2.013202618002575e-05\n",
      "HQIC:  -10.811066266140053 \n",
      "\n",
      "Lag Order = 12\n",
      "AIC:  -10.81494032083642\n",
      "BIC :  -10.807476158992941\n",
      "FPE :  2.0096993710211585e-05\n",
      "HQIC:  -10.81262245604233 \n",
      "\n",
      "Lag Order = 13\n",
      "AIC:  -10.815646152038902\n",
      "BIC :  -10.807584738479672\n",
      "FPE :  2.008281363042985e-05\n",
      "HQIC:  -10.813142819268913 \n",
      "\n",
      "Lag Order = 14\n",
      "AIC:  -10.816713221732678\n",
      "BIC :  -10.808054538858437\n",
      "FPE :  2.006139529867117e-05\n",
      "HQIC:  -10.814024415238448 \n",
      "\n"
     ]
    }
   ],
   "source": [
    "# Select the order (P) of the VAR model\n",
    "#! Use alternative method: VAR Order Selection\n",
    "model = VAR(df_train)\n",
    "for i in range(1, 15):\n",
    "    result = model.fit(i)\n",
    "    print('Lag Order =',i)\n",
    "    print('AIC: ', result.aic)\n",
    "    print('BIC : ', result.bic)\n",
    "    print('FPE : ', result.fpe)\n",
    "    print('HQIC: ', result.hqic, '\\n')"
   ]
  },
  {
   "cell_type": "code",
   "execution_count": 12,
   "metadata": {},
   "outputs": [
    {
     "data": {
      "text/html": [
       "<table class=\"simpletable\">\n",
       "<caption>VAR Order Selection (* highlights the minimums)</caption>\n",
       "<tr>\n",
       "   <td></td>      <th>AIC</th>         <th>BIC</th>         <th>FPE</th>        <th>HQIC</th>    \n",
       "</tr>\n",
       "<tr>\n",
       "  <th>0</th>  <td>    -10.19</td>  <td>    -10.19</td>  <td> 3.748e-05</td>  <td>    -10.19</td> \n",
       "</tr>\n",
       "<tr>\n",
       "  <th>1</th>  <td>    -10.61</td>  <td>    -10.61</td>  <td> 2.474e-05</td>  <td>    -10.61</td> \n",
       "</tr>\n",
       "<tr>\n",
       "  <th>2</th>  <td>    -10.72</td>  <td>    -10.72</td>  <td> 2.210e-05</td>  <td>    -10.72</td> \n",
       "</tr>\n",
       "<tr>\n",
       "  <th>3</th>  <td>    -10.76</td>  <td>    -10.76</td>  <td> 2.125e-05</td>  <td>    -10.76</td> \n",
       "</tr>\n",
       "<tr>\n",
       "  <th>4</th>  <td>    -10.77</td>  <td>    -10.77</td>  <td> 2.100e-05</td>  <td>    -10.77</td> \n",
       "</tr>\n",
       "<tr>\n",
       "  <th>5</th>  <td>    -10.78</td>  <td>    -10.78</td>  <td> 2.078e-05</td>  <td>    -10.78</td> \n",
       "</tr>\n",
       "<tr>\n",
       "  <th>6</th>  <td>    -10.79</td>  <td>    -10.79</td>  <td> 2.058e-05</td>  <td>    -10.79</td> \n",
       "</tr>\n",
       "<tr>\n",
       "  <th>7</th>  <td>    -10.80</td>  <td>    -10.79</td>  <td> 2.043e-05</td>  <td>    -10.80</td> \n",
       "</tr>\n",
       "<tr>\n",
       "  <th>8</th>  <td>    -10.80</td>  <td>    -10.80</td>  <td> 2.034e-05</td>  <td>    -10.80</td> \n",
       "</tr>\n",
       "<tr>\n",
       "  <th>9</th>  <td>    -10.81</td>  <td>    -10.80</td>  <td> 2.024e-05</td>  <td>    -10.81</td> \n",
       "</tr>\n",
       "<tr>\n",
       "  <th>10</th> <td>    -10.81</td>  <td>    -10.81</td>  <td> 2.017e-05</td>  <td>    -10.81</td> \n",
       "</tr>\n",
       "<tr>\n",
       "  <th>11</th> <td>    -10.81</td>  <td>    -10.81</td>  <td> 2.013e-05</td>  <td>    -10.81</td> \n",
       "</tr>\n",
       "<tr>\n",
       "  <th>12</th> <td>    -10.81*</td> <td>    -10.81*</td> <td> 2.010e-05*</td> <td>    -10.81*</td>\n",
       "</tr>\n",
       "</table>"
      ],
      "text/plain": [
       "<class 'statsmodels.iolib.table.SimpleTable'>"
      ]
     },
     "execution_count": 12,
     "metadata": {},
     "output_type": "execute_result"
    }
   ],
   "source": [
    "x = model.select_order(maxlags=12)\n",
    "x.summary()"
   ]
  },
  {
   "cell_type": "markdown",
   "metadata": {},
   "source": [
    "Here, we follow the strategy mentioned in the original paper, that is, we use lag-4 to further proceed the model fitting."
   ]
  },
  {
   "cell_type": "code",
   "execution_count": 13,
   "metadata": {},
   "outputs": [
    {
     "data": {
      "text/plain": [
       "  Summary of Regression Results   \n",
       "==================================\n",
       "Model:                         VAR\n",
       "Method:                        OLS\n",
       "Date:           Mon, 06, Jun, 2022\n",
       "Time:                     15:41:25\n",
       "--------------------------------------------------------------------\n",
       "No. of Equations:         2.00000    BIC:                   -10.7683\n",
       "Nobs:                     60348.0    HQIC:                  -10.7702\n",
       "Log likelihood:           153762.    FPE:                2.09999e-05\n",
       "AIC:                     -10.7710    Det(Omega_mle):     2.09936e-05\n",
       "--------------------------------------------------------------------\n",
       "Results for equation HighgroupRet\n",
       "==================================================================================\n",
       "                     coefficient       std. error           t-stat            prob\n",
       "----------------------------------------------------------------------------------\n",
       "const                   0.001685         0.000236            7.153           0.000\n",
       "L1.HighgroupRet         0.253255         0.004065           62.296           0.000\n",
       "L1.LowgroupRet          0.052477         0.002941           17.841           0.000\n",
       "L2.HighgroupRet         0.177826         0.004169           42.653           0.000\n",
       "L2.LowgroupRet          0.036399         0.003003           12.120           0.000\n",
       "L3.HighgroupRet         0.119268         0.004167           28.623           0.000\n",
       "L3.LowgroupRet          0.031400         0.003005           10.451           0.000\n",
       "L4.HighgroupRet         0.077910         0.004061           19.184           0.000\n",
       "L4.LowgroupRet          0.028669         0.002944            9.738           0.000\n",
       "==================================================================================\n",
       "\n",
       "Results for equation LowgroupRet\n",
       "==================================================================================\n",
       "                     coefficient       std. error           t-stat            prob\n",
       "----------------------------------------------------------------------------------\n",
       "const                  -0.000920         0.000326           -2.820           0.005\n",
       "L1.HighgroupRet         0.100203         0.005629           17.802           0.000\n",
       "L1.LowgroupRet          0.220124         0.004073           54.051           0.000\n",
       "L2.HighgroupRet         0.060795         0.005772           10.532           0.000\n",
       "L2.LowgroupRet          0.137346         0.004158           33.032           0.000\n",
       "L3.HighgroupRet         0.067791         0.005769           11.751           0.000\n",
       "L3.LowgroupRet          0.087216         0.004160           20.966           0.000\n",
       "L4.HighgroupRet         0.063713         0.005623           11.331           0.000\n",
       "L4.LowgroupRet          0.046506         0.004076           11.409           0.000\n",
       "==================================================================================\n",
       "\n",
       "Correlation matrix of residuals\n",
       "                HighgroupRet  LowgroupRet\n",
       "HighgroupRet        1.000000     0.067689\n",
       "LowgroupRet         0.067689     1.000000\n",
       "\n"
      ]
     },
     "execution_count": 13,
     "metadata": {},
     "output_type": "execute_result"
    }
   ],
   "source": [
    "model_fitted = model.fit(4)\n",
    "model_fitted.summary()"
   ]
  },
  {
   "cell_type": "markdown",
   "metadata": {},
   "source": [
    "### Serial Correlation - Residuals - Durbin Watson Statistic\n",
    "Serial correlation of residuals is used to check if there is any leftover pattern in the residuals.     \n",
    "Note:      \n",
    "    A common way of checking for serial correlation of errors can be measured using the Durbin Watson’s Statistic. The value of this statistic can vary between 0 and 4. The closer it is to the value 2, then there is no significant serial correlation. The closer to 0, there is a positive serial correlation, and the closer it is to 4 implies negative serial correlation."
   ]
  },
  {
   "cell_type": "code",
   "execution_count": 14,
   "metadata": {},
   "outputs": [
    {
     "name": "stdout",
     "output_type": "stream",
     "text": [
      "HighgroupRet : 2.01\n",
      "LowgroupRet : 2.01\n"
     ]
    }
   ],
   "source": [
    "from statsmodels.stats.stattools import durbin_watson\n",
    "out = durbin_watson(model_fitted.resid)\n",
    "\n",
    "for col, val in zip(df.columns, out):\n",
    "    print((col), ':', round(val, 2))"
   ]
  },
  {
   "cell_type": "markdown",
   "metadata": {},
   "source": [
    "There is no significant serial correlation --> Can further proceed the forcast."
   ]
  }
 ],
 "metadata": {
  "interpreter": {
   "hash": "aee8b7b246df8f9039afb4144a1f6fd8d2ca17a180786b69acc140d282b71a49"
  },
  "kernelspec": {
   "display_name": "Python 3",
   "language": "python",
   "name": "python3"
  },
  "language_info": {
   "codemirror_mode": {
    "name": "ipython",
    "version": 3
   },
   "file_extension": ".py",
   "mimetype": "text/x-python",
   "name": "python",
   "nbconvert_exporter": "python",
   "pygments_lexer": "ipython3",
   "version": "3.9.2"
  }
 },
 "nbformat": 4,
 "nbformat_minor": 4
}
