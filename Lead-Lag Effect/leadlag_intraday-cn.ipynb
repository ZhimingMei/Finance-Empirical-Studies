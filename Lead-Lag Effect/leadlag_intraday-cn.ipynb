{
 "cells": [
  {
   "cell_type": "markdown",
   "metadata": {},
   "source": [
    "## 获取数据"
   ]
  },
  {
   "cell_type": "code",
   "execution_count": null,
   "metadata": {},
   "outputs": [],
   "source": [
    "import jqdatasdk as jq\n",
    "import os\n",
    "jq.auth()"
   ]
  },
  {
   "cell_type": "code",
   "execution_count": 3,
   "metadata": {},
   "outputs": [
    {
     "data": {
      "text/html": [
       "<div>\n",
       "<style scoped>\n",
       "    .dataframe tbody tr th:only-of-type {\n",
       "        vertical-align: middle;\n",
       "    }\n",
       "\n",
       "    .dataframe tbody tr th {\n",
       "        vertical-align: top;\n",
       "    }\n",
       "\n",
       "    .dataframe thead th {\n",
       "        text-align: right;\n",
       "    }\n",
       "</style>\n",
       "<table border=\"1\" class=\"dataframe\">\n",
       "  <thead>\n",
       "    <tr style=\"text-align: right;\">\n",
       "      <th></th>\n",
       "      <th>name</th>\n",
       "      <th>start_date</th>\n",
       "    </tr>\n",
       "  </thead>\n",
       "  <tbody>\n",
       "    <tr>\n",
       "      <th>801993</th>\n",
       "      <td>旅游及景区II</td>\n",
       "      <td>2021-12-11</td>\n",
       "    </tr>\n",
       "    <tr>\n",
       "      <th>801744</th>\n",
       "      <td>船舶制造II</td>\n",
       "      <td>2014-02-21</td>\n",
       "    </tr>\n",
       "    <tr>\n",
       "      <th>801745</th>\n",
       "      <td>军工电子II</td>\n",
       "      <td>2021-12-11</td>\n",
       "    </tr>\n",
       "    <tr>\n",
       "      <th>801742</th>\n",
       "      <td>航空装备II</td>\n",
       "      <td>2014-02-21</td>\n",
       "    </tr>\n",
       "    <tr>\n",
       "      <th>801743</th>\n",
       "      <td>地面兵装II</td>\n",
       "      <td>2014-02-21</td>\n",
       "    </tr>\n",
       "  </tbody>\n",
       "</table>\n",
       "</div>"
      ],
      "text/plain": [
       "           name start_date\n",
       "801993  旅游及景区II 2021-12-11\n",
       "801744   船舶制造II 2014-02-21\n",
       "801745   军工电子II 2021-12-11\n",
       "801742   航空装备II 2014-02-21\n",
       "801743   地面兵装II 2014-02-21"
      ]
     },
     "execution_count": 3,
     "metadata": {},
     "output_type": "execute_result"
    }
   ],
   "source": [
    "# 获得行业代码--二级行业\n",
    "# 申万行业分类--134个二级行业\n",
    "industries_df = jq.get_industries('sw_l2', date='2022-5-1')\n",
    "industries_total = industries_df.index.tolist()\n",
    "industries_df.head()"
   ]
  },
  {
   "cell_type": "code",
   "execution_count": 4,
   "metadata": {},
   "outputs": [
    {
     "name": "stdout",
     "output_type": "stream",
     "text": [
      "共选择了15个申万二级行业\n"
     ]
    }
   ],
   "source": [
    "# 筛选出合适的行业\n",
    "industries_list = []\n",
    "for industry in industries_total:\n",
    "    securities = jq.get_industry_stocks(industry)\n",
    "    if len(securities)>80:\n",
    "        industries_list.append(industry)\n",
    "print(f'共选择了{len(industries_list)}个申万二级行业')"
   ]
  },
  {
   "cell_type": "markdown",
   "metadata": {},
   "source": [
    "### 所选行业\n",
    "电力、电子制造、汽车零部件、环境治理、房地产开发、光学光电子、半导体、化学制品、软件开发、IT服务、专用设备、通用机械、医疗器械、化学制药、电网设备"
   ]
  },
  {
   "cell_type": "code",
   "execution_count": 6,
   "metadata": {},
   "outputs": [],
   "source": [
    "# 获取行业内股票数据（15minbar）\n",
    "path = ''\n",
    "for industry in contd_list:\n",
    "    securities = jq.get_industry_stocks(industry)\n",
    "    file_name = industry+'_15min.csv'\n",
    "    output_file = os.path.join(path, file_name)\n",
    "    df = jq.get_bars(securities, 5000, unit='15m', fields=['date','open','close'], include_now=False, end_dt='2022-5-1')\n",
    "    df.to_csv(output_file)"
   ]
  },
  {
   "cell_type": "markdown",
   "metadata": {},
   "source": [
    "## 数据处理"
   ]
  },
  {
   "cell_type": "code",
   "execution_count": 7,
   "metadata": {},
   "outputs": [],
   "source": [
    "import pandas as pd\n",
    "from pandas import DataFrame\n",
    "import numpy as np\n",
    "import seaborn as sns\n",
    "import matplotlib.pyplot as plt\n",
    "\n",
    "from statsmodels.tsa.api import VAR\n",
    "from statsmodels.tsa.stattools import adfuller\n",
    "from statsmodels.tools.eval_measures import rmse, aic\n",
    "\n",
    "from sklearn.linear_model import LinearRegression"
   ]
  },
  {
   "cell_type": "code",
   "execution_count": 8,
   "metadata": {},
   "outputs": [
    {
     "data": {
      "text/html": [
       "<div>\n",
       "<style scoped>\n",
       "    .dataframe tbody tr th:only-of-type {\n",
       "        vertical-align: middle;\n",
       "    }\n",
       "\n",
       "    .dataframe tbody tr th {\n",
       "        vertical-align: top;\n",
       "    }\n",
       "\n",
       "    .dataframe thead th {\n",
       "        text-align: right;\n",
       "    }\n",
       "</style>\n",
       "<table border=\"1\" class=\"dataframe\">\n",
       "  <thead>\n",
       "    <tr style=\"text-align: right;\">\n",
       "      <th></th>\n",
       "      <th>Stkcd</th>\n",
       "      <th>order</th>\n",
       "      <th>date</th>\n",
       "      <th>open</th>\n",
       "      <th>close</th>\n",
       "    </tr>\n",
       "  </thead>\n",
       "  <tbody>\n",
       "    <tr>\n",
       "      <th>0</th>\n",
       "      <td>688089.XSHG</td>\n",
       "      <td>0</td>\n",
       "      <td>2021-01-13 13:15:00</td>\n",
       "      <td>34.98</td>\n",
       "      <td>34.66</td>\n",
       "    </tr>\n",
       "    <tr>\n",
       "      <th>1</th>\n",
       "      <td>688089.XSHG</td>\n",
       "      <td>1</td>\n",
       "      <td>2021-01-13 13:30:00</td>\n",
       "      <td>34.63</td>\n",
       "      <td>34.50</td>\n",
       "    </tr>\n",
       "    <tr>\n",
       "      <th>2</th>\n",
       "      <td>688089.XSHG</td>\n",
       "      <td>2</td>\n",
       "      <td>2021-01-13 13:45:00</td>\n",
       "      <td>34.53</td>\n",
       "      <td>34.56</td>\n",
       "    </tr>\n",
       "    <tr>\n",
       "      <th>3</th>\n",
       "      <td>688089.XSHG</td>\n",
       "      <td>3</td>\n",
       "      <td>2021-01-13 14:00:00</td>\n",
       "      <td>34.56</td>\n",
       "      <td>34.72</td>\n",
       "    </tr>\n",
       "    <tr>\n",
       "      <th>4</th>\n",
       "      <td>688089.XSHG</td>\n",
       "      <td>4</td>\n",
       "      <td>2021-01-13 14:15:00</td>\n",
       "      <td>34.67</td>\n",
       "      <td>34.84</td>\n",
       "    </tr>\n",
       "  </tbody>\n",
       "</table>\n",
       "</div>"
      ],
      "text/plain": [
       "         Stkcd  order                 date   open  close\n",
       "0  688089.XSHG      0  2021-01-13 13:15:00  34.98  34.66\n",
       "1  688089.XSHG      1  2021-01-13 13:30:00  34.63  34.50\n",
       "2  688089.XSHG      2  2021-01-13 13:45:00  34.53  34.56\n",
       "3  688089.XSHG      3  2021-01-13 14:00:00  34.56  34.72\n",
       "4  688089.XSHG      4  2021-01-13 14:15:00  34.67  34.84"
      ]
     },
     "execution_count": 8,
     "metadata": {},
     "output_type": "execute_result"
    }
   ],
   "source": [
    "# 读取文件\n",
    "file_name = '801034_15min.csv'\n",
    "read_file = os.path.join(path, file_name)\n",
    "df = pd.read_csv(read_file)\n",
    "df.columns = ['Stkcd', 'order', 'date', 'open', 'close']\n",
    "df.head()"
   ]
  },
  {
   "cell_type": "code",
   "execution_count": 9,
   "metadata": {},
   "outputs": [
    {
     "data": {
      "text/html": [
       "<div>\n",
       "<style scoped>\n",
       "    .dataframe tbody tr th:only-of-type {\n",
       "        vertical-align: middle;\n",
       "    }\n",
       "\n",
       "    .dataframe tbody tr th {\n",
       "        vertical-align: top;\n",
       "    }\n",
       "\n",
       "    .dataframe thead th {\n",
       "        text-align: right;\n",
       "    }\n",
       "</style>\n",
       "<table border=\"1\" class=\"dataframe\">\n",
       "  <thead>\n",
       "    <tr style=\"text-align: right;\">\n",
       "      <th></th>\n",
       "      <th>Stkcd</th>\n",
       "      <th>date</th>\n",
       "      <th>open</th>\n",
       "      <th>close</th>\n",
       "      <th>return</th>\n",
       "    </tr>\n",
       "    <tr>\n",
       "      <th>order</th>\n",
       "      <th></th>\n",
       "      <th></th>\n",
       "      <th></th>\n",
       "      <th></th>\n",
       "      <th></th>\n",
       "    </tr>\n",
       "  </thead>\n",
       "  <tbody>\n",
       "    <tr>\n",
       "      <th>0</th>\n",
       "      <td>688089</td>\n",
       "      <td>2021-01-13 13:15:00</td>\n",
       "      <td>34.98</td>\n",
       "      <td>34.66</td>\n",
       "      <td>0.009148</td>\n",
       "    </tr>\n",
       "    <tr>\n",
       "      <th>1</th>\n",
       "      <td>688089</td>\n",
       "      <td>2021-01-13 13:30:00</td>\n",
       "      <td>34.63</td>\n",
       "      <td>34.50</td>\n",
       "      <td>0.003754</td>\n",
       "    </tr>\n",
       "    <tr>\n",
       "      <th>2</th>\n",
       "      <td>688089</td>\n",
       "      <td>2021-01-13 13:45:00</td>\n",
       "      <td>34.53</td>\n",
       "      <td>34.56</td>\n",
       "      <td>-0.000869</td>\n",
       "    </tr>\n",
       "  </tbody>\n",
       "</table>\n",
       "</div>"
      ],
      "text/plain": [
       "        Stkcd                 date   open  close    return\n",
       "order                                                     \n",
       "0      688089  2021-01-13 13:15:00  34.98  34.66  0.009148\n",
       "1      688089  2021-01-13 13:30:00  34.63  34.50  0.003754\n",
       "2      688089  2021-01-13 13:45:00  34.53  34.56 -0.000869"
      ]
     },
     "execution_count": 9,
     "metadata": {},
     "output_type": "execute_result"
    }
   ],
   "source": [
    "# 更改DataFrame表头\n",
    "df['Stkcd'] = df['Stkcd'].str.split('.').apply(lambda x: x[0])\n",
    "df['return'] = (df['open']-df['close'])/df['open']\n",
    "df.set_index('order', inplace=True)\n",
    "df.head(3)"
   ]
  },
  {
   "cell_type": "markdown",
   "metadata": {},
   "source": [
    "### 市值数据处理"
   ]
  },
  {
   "cell_type": "code",
   "execution_count": 10,
   "metadata": {},
   "outputs": [
    {
     "data": {
      "text/html": [
       "<div>\n",
       "<style scoped>\n",
       "    .dataframe tbody tr th:only-of-type {\n",
       "        vertical-align: middle;\n",
       "    }\n",
       "\n",
       "    .dataframe tbody tr th {\n",
       "        vertical-align: top;\n",
       "    }\n",
       "\n",
       "    .dataframe thead th {\n",
       "        text-align: right;\n",
       "    }\n",
       "</style>\n",
       "<table border=\"1\" class=\"dataframe\">\n",
       "  <thead>\n",
       "    <tr style=\"text-align: right;\">\n",
       "      <th></th>\n",
       "      <th>trading_date</th>\n",
       "      <th>Stkcd</th>\n",
       "      <th>short_name</th>\n",
       "      <th>size</th>\n",
       "    </tr>\n",
       "  </thead>\n",
       "  <tbody>\n",
       "    <tr>\n",
       "      <th>1807647</th>\n",
       "      <td>2022-04-27</td>\n",
       "      <td>900957</td>\n",
       "      <td>凌云B股</td>\n",
       "      <td>601087593.6</td>\n",
       "    </tr>\n",
       "    <tr>\n",
       "      <th>1807648</th>\n",
       "      <td>2022-04-28</td>\n",
       "      <td>900957</td>\n",
       "      <td>凌云B股</td>\n",
       "      <td>592909603.2</td>\n",
       "    </tr>\n",
       "    <tr>\n",
       "      <th>1807649</th>\n",
       "      <td>2022-04-29</td>\n",
       "      <td>900957</td>\n",
       "      <td>凌云B股</td>\n",
       "      <td>630746222.4</td>\n",
       "    </tr>\n",
       "  </tbody>\n",
       "</table>\n",
       "</div>"
      ],
      "text/plain": [
       "        trading_date   Stkcd short_name         size\n",
       "1807647   2022-04-27  900957       凌云B股  601087593.6\n",
       "1807648   2022-04-28  900957       凌云B股  592909603.2\n",
       "1807649   2022-04-29  900957       凌云B股  630746222.4"
      ]
     },
     "execution_count": 10,
     "metadata": {},
     "output_type": "execute_result"
    }
   ],
   "source": [
    "# 读取流通市值数据\n",
    "df1 = pd.read_csv('STK_MKT_DALYR.csv')\n",
    "df2 = pd.read_csv('STK_MKT_DALYR1.csv')\n",
    "size_df = pd.merge(df1, df2, how='outer')\n",
    "size_df.columns = ['trading_date','Stkcd','short_name','size']\n",
    "size_df.tail(3)"
   ]
  },
  {
   "cell_type": "code",
   "execution_count": 11,
   "metadata": {},
   "outputs": [
    {
     "data": {
      "text/html": [
       "<div>\n",
       "<style scoped>\n",
       "    .dataframe tbody tr th:only-of-type {\n",
       "        vertical-align: middle;\n",
       "    }\n",
       "\n",
       "    .dataframe tbody tr th {\n",
       "        vertical-align: top;\n",
       "    }\n",
       "\n",
       "    .dataframe thead th {\n",
       "        text-align: right;\n",
       "    }\n",
       "</style>\n",
       "<table border=\"1\" class=\"dataframe\">\n",
       "  <thead>\n",
       "    <tr style=\"text-align: right;\">\n",
       "      <th></th>\n",
       "      <th>Stkcd</th>\n",
       "      <th>date</th>\n",
       "      <th>return</th>\n",
       "      <th>Size</th>\n",
       "    </tr>\n",
       "    <tr>\n",
       "      <th>order</th>\n",
       "      <th></th>\n",
       "      <th></th>\n",
       "      <th></th>\n",
       "      <th></th>\n",
       "    </tr>\n",
       "  </thead>\n",
       "  <tbody>\n",
       "    <tr>\n",
       "      <th>0</th>\n",
       "      <td>688089</td>\n",
       "      <td>2021-01-13 13:15:00</td>\n",
       "      <td>0.009148</td>\n",
       "      <td>2.278536e+09</td>\n",
       "    </tr>\n",
       "    <tr>\n",
       "      <th>1</th>\n",
       "      <td>688089</td>\n",
       "      <td>2021-01-13 13:30:00</td>\n",
       "      <td>0.003754</td>\n",
       "      <td>2.278536e+09</td>\n",
       "    </tr>\n",
       "    <tr>\n",
       "      <th>2</th>\n",
       "      <td>688089</td>\n",
       "      <td>2021-01-13 13:45:00</td>\n",
       "      <td>-0.000869</td>\n",
       "      <td>2.278536e+09</td>\n",
       "    </tr>\n",
       "  </tbody>\n",
       "</table>\n",
       "</div>"
      ],
      "text/plain": [
       "        Stkcd                 date    return          Size\n",
       "order                                                     \n",
       "0      688089  2021-01-13 13:15:00  0.009148  2.278536e+09\n",
       "1      688089  2021-01-13 13:30:00  0.003754  2.278536e+09\n",
       "2      688089  2021-01-13 13:45:00 -0.000869  2.278536e+09"
      ]
     },
     "execution_count": 11,
     "metadata": {},
     "output_type": "execute_result"
    }
   ],
   "source": [
    "# 对DataFrame进行处理，并完成合并\n",
    "df1 = df.copy()\n",
    "df1['trading_date'] = df1['date'].str.split(' ').apply(lambda x: x[0])\n",
    "df1['Stkcd'] = df1['Stkcd'].astype(np.int64)\n",
    "df1 = pd.merge(df1, size_df, on=['trading_date', 'Stkcd'], how='left')\n",
    "df['Size'] = df1['size']\n",
    "df = df[['Stkcd', 'date', 'return', 'Size']]\n",
    "df.head(3)"
   ]
  },
  {
   "cell_type": "code",
   "execution_count": 12,
   "metadata": {},
   "outputs": [
    {
     "data": {
      "text/plain": [
       "Stkcd     0\n",
       "date      0\n",
       "return    0\n",
       "Size      0\n",
       "dtype: int64"
      ]
     },
     "execution_count": 12,
     "metadata": {},
     "output_type": "execute_result"
    }
   ],
   "source": [
    "df.isna().sum()"
   ]
  },
  {
   "cell_type": "markdown",
   "metadata": {},
   "source": [
    "## 结论验证\n",
    "验证过程中的中间步骤，使用**df1**而不是**df**，以防止原DataFrame被影响      \n",
    "df1包含字段：stkcd, date, open, close, return, trading_date, short_name, size\t"
   ]
  },
  {
   "cell_type": "markdown",
   "metadata": {},
   "source": [
    "结论1：小市值公司有更高的平均收益      \n",
    "思路：对每一时间段内不同组的收益率进行计算比较"
   ]
  },
  {
   "cell_type": "code",
   "execution_count": 13,
   "metadata": {},
   "outputs": [
    {
     "data": {
      "text/html": [
       "<div>\n",
       "<style scoped>\n",
       "    .dataframe tbody tr th:only-of-type {\n",
       "        vertical-align: middle;\n",
       "    }\n",
       "\n",
       "    .dataframe tbody tr th {\n",
       "        vertical-align: top;\n",
       "    }\n",
       "\n",
       "    .dataframe thead th {\n",
       "        text-align: right;\n",
       "    }\n",
       "</style>\n",
       "<table border=\"1\" class=\"dataframe\">\n",
       "  <thead>\n",
       "    <tr style=\"text-align: right;\">\n",
       "      <th></th>\n",
       "      <th>Stkcd</th>\n",
       "      <th>date</th>\n",
       "      <th>open</th>\n",
       "      <th>close</th>\n",
       "      <th>return</th>\n",
       "      <th>trading_date</th>\n",
       "      <th>short_name</th>\n",
       "      <th>size</th>\n",
       "      <th>year</th>\n",
       "      <th>month</th>\n",
       "      <th>time</th>\n",
       "    </tr>\n",
       "  </thead>\n",
       "  <tbody>\n",
       "    <tr>\n",
       "      <th>0</th>\n",
       "      <td>688089</td>\n",
       "      <td>2021-01-13 13:15:00</td>\n",
       "      <td>34.98</td>\n",
       "      <td>34.66</td>\n",
       "      <td>0.009148</td>\n",
       "      <td>2021-01-13</td>\n",
       "      <td>嘉必优</td>\n",
       "      <td>2.278536e+09</td>\n",
       "      <td>2021</td>\n",
       "      <td>01</td>\n",
       "      <td>202101</td>\n",
       "    </tr>\n",
       "  </tbody>\n",
       "</table>\n",
       "</div>"
      ],
      "text/plain": [
       "    Stkcd                 date   open  close    return trading_date  \\\n",
       "0  688089  2021-01-13 13:15:00  34.98  34.66  0.009148   2021-01-13   \n",
       "\n",
       "  short_name          size  year month    time  \n",
       "0        嘉必优  2.278536e+09  2021    01  202101  "
      ]
     },
     "execution_count": 13,
     "metadata": {},
     "output_type": "execute_result"
    }
   ],
   "source": [
    "# 更换合适的索引（计算月平均）\n",
    "df1['year'] = df1['trading_date'].str.split('-').apply(lambda x:x[0])\n",
    "df1['month'] = df1['trading_date'].str.split('-').apply(lambda x: x[1])\n",
    "df1['time'] = df1['year']+df1['month']\n",
    "df1['time'] = df1['time'].astype(int)\n",
    "df1.head(1)"
   ]
  },
  {
   "cell_type": "code",
   "execution_count": 14,
   "metadata": {},
   "outputs": [],
   "source": [
    "# 求差值验证结论1\n",
    "diff = []\n",
    "time = 0\n",
    "for i in range(1,17):\n",
    "    if i in range(1,13):\n",
    "        time = 202100+i\n",
    "    elif i in range(13,17):\n",
    "        time = 202200+i-12\n",
    "\n",
    "    df2 = df1[df1['time']==time]\n",
    "    avg_size = df2[['Stkcd', 'size', 'time']].groupby(['Stkcd','time']).apply(lambda x:x['size'].mean()).reset_index()\n",
    "    avg_size_df = DataFrame(avg_size)\n",
    "    avg_size_df.columns = ['Stkcd', 'time', 'avg_size']\n",
    "\n",
    "    avg_return = df2[['Stkcd', 'return', 'time']].groupby(['Stkcd','time']).apply(lambda x:x['return'].mean()).reset_index()\n",
    "    avg_return_df = DataFrame(avg_return)\n",
    "    avg_return_df.columns = ['Stkcd', 'time', 'avg_return']\n",
    "\n",
    "    avg_df = pd.merge(avg_size_df, avg_return_df, on=['Stkcd', 'time'], how='left')\n",
    "    large_group_return = avg_df['avg_return'][avg_df.avg_size.rank(pct=True)>=0.7].mean()\n",
    "    small_group_return = avg_df['avg_return'][avg_df.avg_size.rank(pct=True)<=0.3].mean()\n",
    "    diff.append((time,large_group_return-small_group_return))\n",
    "diff = DataFrame(diff)\n",
    "diff.columns = ['time', 'difference']"
   ]
  },
  {
   "cell_type": "code",
   "execution_count": 15,
   "metadata": {},
   "outputs": [
    {
     "data": {
      "text/plain": [
       "<matplotlib.collections.PathCollection at 0x7f98e4ef3c40>"
      ]
     },
     "execution_count": 15,
     "metadata": {},
     "output_type": "execute_result"
    },
    {
     "data": {
      "image/png": "[encoded data removed]",
      "text/plain": [
       "<Figure size 432x288 with 1 Axes>"
      ]
     },
     "metadata": {
      "needs_background": "light"
     },
     "output_type": "display_data"
    }
   ],
   "source": [
    "# 结论1可视化\n",
    "x = np.arange(16)\n",
    "y = 0 * x\n",
    "plt.plot(x,y,color='red')\n",
    "plt.scatter(diff.index,diff['difference'])"
   ]
  },
  {
   "cell_type": "markdown",
   "metadata": {},
   "source": [
    "### 结论2: 自回归系数会随着公司规模扩大而降低"
   ]
  },
  {
   "cell_type": "code",
   "execution_count": 16,
   "metadata": {},
   "outputs": [],
   "source": [
    "# 自相关系数函数\n",
    "def autocorrelation(x,lags):\n",
    "\t'''\n",
    "\tCalculate lags order autocorrelations\n",
    "\tReturn lags value\n",
    "\tSeries mean and variance constant\n",
    "\t'''\n",
    "\tn = len(x)\n",
    "\tx = np.array(x)\n",
    "\tvariance = x.var()\n",
    "\tx = x-x.mean()\n",
    "\tresult = np.correlate(x, x, mode = 'full')[-n+1:-n+lags+1]/\\\n",
    "\t\t(variance*(np.arange(n-1,n-1-lags,-1)))\n",
    "\treturn result"
   ]
  },
  {
   "cell_type": "code",
   "execution_count": 17,
   "metadata": {},
   "outputs": [
    {
     "data": {
      "text/html": [
       "<div>\n",
       "<style scoped>\n",
       "    .dataframe tbody tr th:only-of-type {\n",
       "        vertical-align: middle;\n",
       "    }\n",
       "\n",
       "    .dataframe tbody tr th {\n",
       "        vertical-align: top;\n",
       "    }\n",
       "\n",
       "    .dataframe thead th {\n",
       "        text-align: right;\n",
       "    }\n",
       "</style>\n",
       "<table border=\"1\" class=\"dataframe\">\n",
       "  <thead>\n",
       "    <tr style=\"text-align: right;\">\n",
       "      <th></th>\n",
       "      <th>Stkcd</th>\n",
       "      <th>time</th>\n",
       "      <th>autocorrelation</th>\n",
       "      <th>avg_size</th>\n",
       "    </tr>\n",
       "  </thead>\n",
       "  <tbody>\n",
       "    <tr>\n",
       "      <th>68</th>\n",
       "      <td>301037</td>\n",
       "      <td>202204</td>\n",
       "      <td>[-0.0908751740616616]</td>\n",
       "      <td>4.653784e+08</td>\n",
       "    </tr>\n",
       "    <tr>\n",
       "      <th>69</th>\n",
       "      <td>301059</td>\n",
       "      <td>202204</td>\n",
       "      <td>[-0.044212688321121234]</td>\n",
       "      <td>4.857542e+08</td>\n",
       "    </tr>\n",
       "    <tr>\n",
       "      <th>71</th>\n",
       "      <td>301076</td>\n",
       "      <td>202204</td>\n",
       "      <td>[0.06034456566675582]</td>\n",
       "      <td>5.582737e+08</td>\n",
       "    </tr>\n",
       "    <tr>\n",
       "      <th>123</th>\n",
       "      <td>688129</td>\n",
       "      <td>202204</td>\n",
       "      <td>[0.007681710886113923]</td>\n",
       "      <td>5.881059e+08</td>\n",
       "    </tr>\n",
       "    <tr>\n",
       "      <th>67</th>\n",
       "      <td>301036</td>\n",
       "      <td>202204</td>\n",
       "      <td>[0.039764466474146526]</td>\n",
       "      <td>5.927105e+08</td>\n",
       "    </tr>\n",
       "  </tbody>\n",
       "</table>\n",
       "</div>"
      ],
      "text/plain": [
       "      Stkcd    time          autocorrelation      avg_size\n",
       "68   301037  202204    [-0.0908751740616616]  4.653784e+08\n",
       "69   301059  202204  [-0.044212688321121234]  4.857542e+08\n",
       "71   301076  202204    [0.06034456566675582]  5.582737e+08\n",
       "123  688129  202204   [0.007681710886113923]  5.881059e+08\n",
       "67   301036  202204   [0.039764466474146526]  5.927105e+08"
      ]
     },
     "execution_count": 17,
     "metadata": {},
     "output_type": "execute_result"
    }
   ],
   "source": [
    "# 计算自回归系数 (月度自相关)\n",
    "for i in range(1,17):\n",
    "    if i in range(1,13):\n",
    "        time = 202100+i\n",
    "    elif i in range(13,17):\n",
    "        time = 202200+i-12\n",
    "\n",
    "    df2 = df1[df1['time']==time]\n",
    "    ac_df = DataFrame(df2[['Stkcd','time','return']].groupby(['Stkcd','time']).apply(lambda x:(autocorrelation(x['return'],1))).reset_index())\n",
    "    ac_df.columns = ['Stkcd', 'time', 'autocorrelation']\n",
    "    ac_df = pd.merge(ac_df, avg_size, on=['Stkcd','time'], how='left')\n",
    "    ac_df.sort_values(by='avg_size', ascending=True, inplace=True)\n",
    "ac_df.head()"
   ]
  },
  {
   "cell_type": "code",
   "execution_count": 18,
   "metadata": {},
   "outputs": [
    {
     "data": {
      "image/png": "[encoded data removed]",
      "text/plain": [
       "<Figure size 432x288 with 1 Axes>"
      ]
     },
     "metadata": {
      "needs_background": "light"
     },
     "output_type": "display_data"
    },
    {
     "data": {
      "image/png": "[encoded data removed]",
      "text/plain": [
       "<Figure size 432x288 with 1 Axes>"
      ]
     },
     "metadata": {
      "needs_background": "light"
     },
     "output_type": "display_data"
    }
   ],
   "source": [
    "# 结论2可视化\n",
    "from sklearn.linear_model import LinearRegression\n",
    "\n",
    "d1 = ac_df['avg_size'].__array__().reshape(-1,1)\n",
    "d2 = ac_df['autocorrelation'].__array__().reshape(-1,1)\n",
    "\n",
    "reg=LinearRegression()\n",
    "reg.fit(d1,d2)\n",
    "plt.plot(d1,reg.predict(d1),color=\"red\")\n",
    "plt.show()\n",
    "plt.scatter(d1[:60], d2[:60], color='red', marker='o')\n",
    "plt.scatter(d1[60:120], d2[60:120], color='blue', marker='x')\n",
    "plt.scatter(d1[120:180], d2[120:180], color='green', marker='+')\n",
    "plt.show()\n",
    "# sns.regplot(x=d1, y=d2, marker='+', label='Distribution Dots', truncate=False, line_kws={'label': 'Regression Line'})"
   ]
  },
  {
   "cell_type": "markdown",
   "metadata": {},
   "source": [
    "#### 注意\n",
    "上述两个结论仍然是用日数据进行验证，可以转为日内15分钟数据进行进一步验证"
   ]
  },
  {
   "cell_type": "markdown",
   "metadata": {},
   "source": [
    "### 结论3：向量自回归（日内数据 15minbar）\n",
    "\n",
    "本节中，核心内容是将日内数据做成索引，便于后续遍历等操作      \n",
    "类似地，我们用df2作为中间步骤的DataFrame      \n",
    "**min_df为该部分的主要使用DataFrame**"
   ]
  },
  {
   "cell_type": "code",
   "execution_count": 20,
   "metadata": {},
   "outputs": [
    {
     "data": {
      "text/html": [
       "<div>\n",
       "<style scoped>\n",
       "    .dataframe tbody tr th:only-of-type {\n",
       "        vertical-align: middle;\n",
       "    }\n",
       "\n",
       "    .dataframe tbody tr th {\n",
       "        vertical-align: top;\n",
       "    }\n",
       "\n",
       "    .dataframe thead th {\n",
       "        text-align: right;\n",
       "    }\n",
       "</style>\n",
       "<table border=\"1\" class=\"dataframe\">\n",
       "  <thead>\n",
       "    <tr style=\"text-align: right;\">\n",
       "      <th></th>\n",
       "      <th>Stkcd</th>\n",
       "      <th>return</th>\n",
       "      <th>Size</th>\n",
       "    </tr>\n",
       "    <tr>\n",
       "      <th>date</th>\n",
       "      <th></th>\n",
       "      <th></th>\n",
       "      <th></th>\n",
       "    </tr>\n",
       "  </thead>\n",
       "  <tbody>\n",
       "    <tr>\n",
       "      <th>2020-12-29 13:15:00</th>\n",
       "      <td>5</td>\n",
       "      <td>5</td>\n",
       "      <td>5</td>\n",
       "    </tr>\n",
       "    <tr>\n",
       "      <th>2020-12-29 13:30:00</th>\n",
       "      <td>5</td>\n",
       "      <td>5</td>\n",
       "      <td>5</td>\n",
       "    </tr>\n",
       "    <tr>\n",
       "      <th>2020-12-29 13:45:00</th>\n",
       "      <td>5</td>\n",
       "      <td>5</td>\n",
       "      <td>5</td>\n",
       "    </tr>\n",
       "  </tbody>\n",
       "</table>\n",
       "</div>"
      ],
      "text/plain": [
       "                     Stkcd  return  Size\n",
       "date                                    \n",
       "2020-12-29 13:15:00      5       5     5\n",
       "2020-12-29 13:30:00      5       5     5\n",
       "2020-12-29 13:45:00      5       5     5"
      ]
     },
     "execution_count": 20,
     "metadata": {},
     "output_type": "execute_result"
    }
   ],
   "source": [
    "df_group = df.groupby('date').count()\n",
    "df_group.head(3)"
   ]
  },
  {
   "cell_type": "code",
   "execution_count": 21,
   "metadata": {},
   "outputs": [],
   "source": [
    "# 获得所有时间\n",
    "minbar_list = df['date'].drop_duplicates().drop_duplicates().tolist()\n",
    "minbar_list.sort()"
   ]
  },
  {
   "cell_type": "code",
   "execution_count": 22,
   "metadata": {},
   "outputs": [
    {
     "data": {
      "text/html": [
       "<div>\n",
       "<style scoped>\n",
       "    .dataframe tbody tr th:only-of-type {\n",
       "        vertical-align: middle;\n",
       "    }\n",
       "\n",
       "    .dataframe tbody tr th {\n",
       "        vertical-align: top;\n",
       "    }\n",
       "\n",
       "    .dataframe thead th {\n",
       "        text-align: right;\n",
       "    }\n",
       "</style>\n",
       "<table border=\"1\" class=\"dataframe\">\n",
       "  <thead>\n",
       "    <tr style=\"text-align: right;\">\n",
       "      <th></th>\n",
       "      <th>Stkcd</th>\n",
       "      <th>date</th>\n",
       "      <th>return</th>\n",
       "      <th>Size</th>\n",
       "    </tr>\n",
       "    <tr>\n",
       "      <th>order</th>\n",
       "      <th></th>\n",
       "      <th></th>\n",
       "      <th></th>\n",
       "      <th></th>\n",
       "    </tr>\n",
       "  </thead>\n",
       "  <tbody>\n",
       "    <tr>\n",
       "      <th>0</th>\n",
       "      <td>688089</td>\n",
       "      <td>2021-01-13 13:15:00</td>\n",
       "      <td>0.009148</td>\n",
       "      <td>2.278536e+09</td>\n",
       "    </tr>\n",
       "  </tbody>\n",
       "</table>\n",
       "</div>"
      ],
      "text/plain": [
       "        Stkcd                 date    return          Size\n",
       "order                                                     \n",
       "0      688089  2021-01-13 13:15:00  0.009148  2.278536e+09"
      ]
     },
     "execution_count": 22,
     "metadata": {},
     "output_type": "execute_result"
    }
   ],
   "source": [
    "df.head(1)"
   ]
  },
  {
   "cell_type": "code",
   "execution_count": 74,
   "metadata": {},
   "outputs": [],
   "source": [
    "# 将表格进行分组并合并\n",
    "cols = ['large_group', 'large_return', 'date', 'small_group', 'small_return']\n",
    "df1 = DataFrame(columns=cols)\n",
    "df1['large_return'] = df1['large_return'].astype(np.float64)\n",
    "df1['small_return'] = df1['small_return'].astype(np.float64)\n",
    "\n",
    "for minbar in minbar_list:\n",
    "    df2 = df[df['date']==minbar]\n",
    "    large_group = DataFrame(df2['Stkcd'][df2.Size.rank(pct=True)>0.7])\n",
    "    merge1 = pd.merge(large_group, df2[['Stkcd', 'return', 'date']], on='Stkcd', how='left')\n",
    "    merge1.columns = ['large_group', 'large_return', 'date']\n",
    "\n",
    "    small_group = DataFrame(df2['Stkcd'][df2.Size.rank(pct=True)<0.3])\n",
    "    merge2 = pd.merge(small_group, df2[['Stkcd', 'return']], on='Stkcd', how='left')\n",
    "    merge2.columns = ['small_group', 'small_return']\n",
    "\n",
    "    result = pd.concat([merge1, merge2], axis=1).dropna()\n",
    "    df1 = pd.merge(df1, result, how='outer')"
   ]
  },
  {
   "cell_type": "code",
   "execution_count": 85,
   "metadata": {},
   "outputs": [
    {
     "data": {
      "text/html": [
       "<div>\n",
       "<style scoped>\n",
       "    .dataframe tbody tr th:only-of-type {\n",
       "        vertical-align: middle;\n",
       "    }\n",
       "\n",
       "    .dataframe tbody tr th {\n",
       "        vertical-align: top;\n",
       "    }\n",
       "\n",
       "    .dataframe thead th {\n",
       "        text-align: right;\n",
       "    }\n",
       "</style>\n",
       "<table border=\"1\" class=\"dataframe\">\n",
       "  <thead>\n",
       "    <tr style=\"text-align: right;\">\n",
       "      <th></th>\n",
       "      <th>large_return</th>\n",
       "      <th>small_return</th>\n",
       "    </tr>\n",
       "    <tr>\n",
       "      <th>date</th>\n",
       "      <th></th>\n",
       "      <th></th>\n",
       "    </tr>\n",
       "  </thead>\n",
       "  <tbody>\n",
       "    <tr>\n",
       "      <th>2021-01-06 13:15:00</th>\n",
       "      <td>-0.000916</td>\n",
       "      <td>-0.009950</td>\n",
       "    </tr>\n",
       "    <tr>\n",
       "      <th>2021-01-06 13:15:00</th>\n",
       "      <td>0.010395</td>\n",
       "      <td>0.004832</td>\n",
       "    </tr>\n",
       "    <tr>\n",
       "      <th>2021-01-06 13:30:00</th>\n",
       "      <td>0.007809</td>\n",
       "      <td>0.004926</td>\n",
       "    </tr>\n",
       "  </tbody>\n",
       "</table>\n",
       "</div>"
      ],
      "text/plain": [
       "                     large_return  small_return\n",
       "date                                           \n",
       "2021-01-06 13:15:00     -0.000916     -0.009950\n",
       "2021-01-06 13:15:00      0.010395      0.004832\n",
       "2021-01-06 13:30:00      0.007809      0.004926"
      ]
     },
     "execution_count": 85,
     "metadata": {},
     "output_type": "execute_result"
    }
   ],
   "source": [
    "# 创建min_df\n",
    "min_df = df1[['date','large_return','small_return']]\n",
    "min_df.set_index('date',inplace=True)\n",
    "min_df.head(3)"
   ]
  },
  {
   "cell_type": "code",
   "execution_count": 86,
   "metadata": {},
   "outputs": [
    {
     "data": {
      "image/png": "[encoded data removed]",
      "text/plain": [
       "<Figure size 1200x720 with 2 Axes>"
      ]
     },
     "metadata": {
      "needs_background": "light"
     },
     "output_type": "display_data"
    }
   ],
   "source": [
    "# 将时间序列可视化\n",
    "fig, axes = plt.subplots(nrows=1, ncols=2, dpi=120, figsize=(10,6))\n",
    "for i, ax in enumerate(axes.flatten()):\n",
    "    data=min_df[min_df.columns[i]]\n",
    "    ax.plot(data, color='red', linewidth=1)\n",
    "    #decorations\n",
    "    ax.set_title(min_df.columns[i])\n",
    "    ax.xaxis.set_ticks_position('none')\n",
    "    ax.yaxis.set_ticks_position('none')\n",
    "    ax.spines['top'].set_alpha(0)\n",
    "    ax.tick_params(labelsize=6)\n",
    "    \n",
    "    plt.tight_layout()"
   ]
  },
  {
   "cell_type": "markdown",
   "metadata": {},
   "source": [
    "#### 格兰杰因果关系检验\n",
    "向量自回归的基础是探究系统中不同时间序列是否存在相互影响。使用格兰杰因果关系检验在建立VAR模型之前验证了这样的关系，原假设为回归方程中过去值的系数为零"
   ]
  },
  {
   "cell_type": "code",
   "execution_count": 88,
   "metadata": {},
   "outputs": [
    {
     "data": {
      "text/html": [
       "<div>\n",
       "<style scoped>\n",
       "    .dataframe tbody tr th:only-of-type {\n",
       "        vertical-align: middle;\n",
       "    }\n",
       "\n",
       "    .dataframe tbody tr th {\n",
       "        vertical-align: top;\n",
       "    }\n",
       "\n",
       "    .dataframe thead th {\n",
       "        text-align: right;\n",
       "    }\n",
       "</style>\n",
       "<table border=\"1\" class=\"dataframe\">\n",
       "  <thead>\n",
       "    <tr style=\"text-align: right;\">\n",
       "      <th></th>\n",
       "      <th>large_return_x</th>\n",
       "      <th>small_return_x</th>\n",
       "    </tr>\n",
       "  </thead>\n",
       "  <tbody>\n",
       "    <tr>\n",
       "      <th>large_return_y</th>\n",
       "      <td>1.0</td>\n",
       "      <td>0.0</td>\n",
       "    </tr>\n",
       "    <tr>\n",
       "      <th>small_return_y</th>\n",
       "      <td>0.0</td>\n",
       "      <td>1.0</td>\n",
       "    </tr>\n",
       "  </tbody>\n",
       "</table>\n",
       "</div>"
      ],
      "text/plain": [
       "                large_return_x  small_return_x\n",
       "large_return_y             1.0             0.0\n",
       "small_return_y             0.0             1.0"
      ]
     },
     "execution_count": 88,
     "metadata": {},
     "output_type": "execute_result"
    }
   ],
   "source": [
    "# 格兰杰因果关系检验\n",
    "from statsmodels.tsa.stattools import grangercausalitytests\n",
    "maxlag=12\n",
    "test = 'ssr_chi2test'\n",
    "def grangers_causation_matrix(data, variables, test='ssr_chi2test', verbose=False):    \n",
    "    \"\"\"\n",
    "    data      : pandas dataframe containing the time series variables\n",
    "    variables : list containing names of the time series variables.\n",
    "    \"\"\"\n",
    "    df = pd.DataFrame(np.zeros((len(variables), len(variables))), columns=variables, index=variables)\n",
    "    for c in df.columns:\n",
    "        for r in df.index:\n",
    "            test_result = grangercausalitytests(data[[r, c]], maxlag=maxlag, verbose=False)\n",
    "            p_values = [round(test_result[i+1][0][test][1],4) for i in range(maxlag)]\n",
    "            if verbose: print(f'Y = {r}, X = {c}, P Values = {p_values}')\n",
    "            min_p_value = np.min(p_values)\n",
    "            df.loc[r, c] = min_p_value\n",
    "    df.columns = [var + '_x' for var in variables]\n",
    "    df.index = [var + '_y' for var in variables]\n",
    "    return df\n",
    "\n",
    "grangers_causation_matrix(min_df, variables = min_df.columns)  "
   ]
  },
  {
   "cell_type": "code",
   "execution_count": 89,
   "metadata": {},
   "outputs": [],
   "source": [
    "# 协整检验\n",
    "from statsmodels.tsa.vector_ar.vecm import coint_johansen"
   ]
  },
  {
   "cell_type": "markdown",
   "metadata": {},
   "source": [
    "#### 协整检验\n",
    "原假设是没有协整方程，拒绝原假设-->一个非平稳变量的组合给出了一个平稳过程"
   ]
  },
  {
   "cell_type": "code",
   "execution_count": 90,
   "metadata": {},
   "outputs": [
    {
     "name": "stdout",
     "output_type": "stream",
     "text": [
      "Name   ::  Test Stat > C(95%)    =>   Signif  \n",
      " ----------------------------------------\n",
      "large_return ::  4963.83   > 12.3212   =>   True\n",
      "small_return ::  2226.58   > 4.1296    =>   True\n"
     ]
    }
   ],
   "source": [
    "def cointegration_test(df, alpha=0.05): \n",
    "    \"\"\"Perform Johansen's Cointegration Test and Report Summary\"\"\"\n",
    "    out = coint_johansen(df,-1,5)\n",
    "    d = {'0.90':0, '0.95':1, '0.99':2}\n",
    "    traces = out.lr1\n",
    "    cvts = out.cvt[:, d[str(1-alpha)]]\n",
    "    def adjust(val, length= 6): return str(val).ljust(length)\n",
    "\n",
    "    # Summary\n",
    "    print('Name   ::  Test Stat > C(95%)    =>   Signif  \\n', '--'*20)\n",
    "    for col, trace, cvt in zip(df.columns, traces, cvts):\n",
    "        print(adjust(col), ':: ', adjust(round(trace,2), 9), \">\", adjust(cvt, 8), ' =>  ' , trace > cvt)\n",
    "\n",
    "cointegration_test(min_df)"
   ]
  },
  {
   "cell_type": "markdown",
   "metadata": {},
   "source": [
    "#### ADFuller平稳性检验\n",
    "如果序列不是平稳的，我们对序列进行做差直到序列平稳"
   ]
  },
  {
   "cell_type": "code",
   "execution_count": 91,
   "metadata": {},
   "outputs": [],
   "source": [
    "# 划分训练集与测试集\n",
    "nobs = 20      \n",
    "df_train, df_test = min_df[0:-nobs], min_df[-nobs:]"
   ]
  },
  {
   "cell_type": "code",
   "execution_count": 92,
   "metadata": {},
   "outputs": [
    {
     "name": "stdout",
     "output_type": "stream",
     "text": [
      "    Augmented Dickey-Fuller Test on \"large_return\" \n",
      "    -----------------------------------------------\n",
      " Null Hypothesis: Data has unit root. Non-Stationary.\n",
      " Significance Level    = 0.05\n",
      " Test Statistic        = -25.3666\n",
      " No. Lags Chosen       = 23\n",
      " Critical value 1%     = -3.431\n",
      " Critical value 5%     = -2.862\n",
      " Critical value 10%    = -2.567\n",
      " => P-Value = 0.0. Rejecting Null Hypothesis.\n",
      " => Series is Stationary.\n",
      "\n",
      "\n",
      "    Augmented Dickey-Fuller Test on \"small_return\" \n",
      "    -----------------------------------------------\n",
      " Null Hypothesis: Data has unit root. Non-Stationary.\n",
      " Significance Level    = 0.05\n",
      " Test Statistic        = -33.0532\n",
      " No. Lags Chosen       = 15\n",
      " Critical value 1%     = -3.431\n",
      " Critical value 5%     = -2.862\n",
      " Critical value 10%    = -2.567\n",
      " => P-Value = 0.0. Rejecting Null Hypothesis.\n",
      " => Series is Stationary.\n",
      "\n",
      "\n"
     ]
    }
   ],
   "source": [
    "def adfuller_test(series, signif=0.05, name='', verbose=False):\n",
    "    \"\"\"Perform ADFuller to test for Stationarity of given series and print report\"\"\"\n",
    "    r = adfuller(series, autolag='AIC')\n",
    "    output = {'test_statistic':round(r[0], 4), 'pvalue':round(r[1], 4), 'n_lags':round(r[2], 4), 'n_obs':r[3]}\n",
    "    p_value = output['pvalue'] \n",
    "    def adjust(val, length= 6): return str(val).ljust(length)\n",
    "\n",
    "    # Print Summary\n",
    "    print(f'    Augmented Dickey-Fuller Test on \"{name}\"', \"\\n   \", '-'*47)\n",
    "    print(f' Null Hypothesis: Data has unit root. Non-Stationary.')\n",
    "    print(f' Significance Level    = {signif}')\n",
    "    print(f' Test Statistic        = {output[\"test_statistic\"]}')\n",
    "    print(f' No. Lags Chosen       = {output[\"n_lags\"]}')\n",
    "\n",
    "    for key,val in r[4].items():\n",
    "        print(f' Critical value {adjust(key)} = {round(val, 3)}')\n",
    "\n",
    "    if p_value <= signif:\n",
    "        print(f\" => P-Value = {p_value}. Rejecting Null Hypothesis.\")\n",
    "        print(f\" => Series is Stationary.\")\n",
    "    else:\n",
    "        print(f\" => P-Value = {p_value}. Weak evidence to reject the Null Hypothesis.\")\n",
    "        print(f\" => Series is Non-Stationary.\")    \n",
    "\n",
    "for name, column in df_train.iteritems():\n",
    "    adfuller_test(column, name=column.name)\n",
    "    print('\\n')"
   ]
  },
  {
   "cell_type": "code",
   "execution_count": 93,
   "metadata": {},
   "outputs": [
    {
     "name": "stderr",
     "output_type": "stream",
     "text": [
      "/Library/Frameworks/Python.framework/Versions/3.9/lib/python3.9/site-packages/statsmodels/tsa/base/tsa_model.py:471: ValueWarning: A date index has been provided, but it has no associated frequency information and so will be ignored when e.g. forecasting.\n",
      "  self._init_dates(dates, freq)\n"
     ]
    },
    {
     "data": {
      "text/html": [
       "<table class=\"simpletable\">\n",
       "<caption>VAR Order Selection (* highlights the minimums)</caption>\n",
       "<tr>\n",
       "   <td></td>      <th>AIC</th>         <th>BIC</th>         <th>FPE</th>        <th>HQIC</th>    \n",
       "</tr>\n",
       "<tr>\n",
       "  <th>0</th>  <td>    -18.81</td>  <td>    -18.81</td>  <td> 6.765e-09</td>  <td>    -18.81</td> \n",
       "</tr>\n",
       "<tr>\n",
       "  <th>1</th>  <td>    -18.82</td>  <td>    -18.82</td>  <td> 6.694e-09</td>  <td>    -18.82</td> \n",
       "</tr>\n",
       "<tr>\n",
       "  <th>2</th>  <td>    -18.83</td>  <td>    -18.83*</td> <td> 6.644e-09</td>  <td>    -18.83</td> \n",
       "</tr>\n",
       "<tr>\n",
       "  <th>3</th>  <td>    -18.83*</td> <td>    -18.82</td>  <td> 6.637e-09*</td> <td>    -18.83*</td>\n",
       "</tr>\n",
       "<tr>\n",
       "  <th>4</th>  <td>    -18.83</td>  <td>    -18.82</td>  <td> 6.637e-09</td>  <td>    -18.83</td> \n",
       "</tr>\n",
       "<tr>\n",
       "  <th>5</th>  <td>    -18.83</td>  <td>    -18.82</td>  <td> 6.639e-09</td>  <td>    -18.83</td> \n",
       "</tr>\n",
       "<tr>\n",
       "  <th>6</th>  <td>    -18.83</td>  <td>    -18.82</td>  <td> 6.639e-09</td>  <td>    -18.83</td> \n",
       "</tr>\n",
       "<tr>\n",
       "  <th>7</th>  <td>    -18.83</td>  <td>    -18.82</td>  <td> 6.640e-09</td>  <td>    -18.83</td> \n",
       "</tr>\n",
       "<tr>\n",
       "  <th>8</th>  <td>    -18.83</td>  <td>    -18.82</td>  <td> 6.640e-09</td>  <td>    -18.83</td> \n",
       "</tr>\n",
       "<tr>\n",
       "  <th>9</th>  <td>    -18.83</td>  <td>    -18.81</td>  <td> 6.638e-09</td>  <td>    -18.82</td> \n",
       "</tr>\n",
       "<tr>\n",
       "  <th>10</th> <td>    -18.83</td>  <td>    -18.81</td>  <td> 6.639e-09</td>  <td>    -18.82</td> \n",
       "</tr>\n",
       "<tr>\n",
       "  <th>11</th> <td>    -18.83</td>  <td>    -18.81</td>  <td> 6.639e-09</td>  <td>    -18.82</td> \n",
       "</tr>\n",
       "<tr>\n",
       "  <th>12</th> <td>    -18.83</td>  <td>    -18.81</td>  <td> 6.642e-09</td>  <td>    -18.82</td> \n",
       "</tr>\n",
       "</table>"
      ],
      "text/plain": [
       "<class 'statsmodels.iolib.table.SimpleTable'>"
      ]
     },
     "execution_count": 93,
     "metadata": {},
     "output_type": "execute_result"
    }
   ],
   "source": [
    "# 选择滞后阶数\n",
    "model = VAR(df_train)\n",
    "x = model.select_order(maxlags=12)\n",
    "x.summary()"
   ]
  },
  {
   "cell_type": "code",
   "execution_count": 94,
   "metadata": {},
   "outputs": [
    {
     "data": {
      "text/plain": [
       "  Summary of Regression Results   \n",
       "==================================\n",
       "Model:                         VAR\n",
       "Method:                        OLS\n",
       "Date:           Thu, 09, Jun, 2022\n",
       "Time:                     11:30:36\n",
       "--------------------------------------------------------------------\n",
       "No. of Equations:         2.00000    BIC:                   -18.8251\n",
       "Nobs:                     17537.0    HQIC:                  -18.8292\n",
       "Log likelihood:           115368.    FPE:                6.63264e-09\n",
       "AIC:                     -18.8313    Det(Omega_mle):     6.62735e-09\n",
       "--------------------------------------------------------------------\n",
       "Results for equation large_return\n",
       "==================================================================================\n",
       "                     coefficient       std. error           t-stat            prob\n",
       "----------------------------------------------------------------------------------\n",
       "const                  -0.000131         0.000059           -2.237           0.025\n",
       "L1.large_return         0.063536         0.007562            8.402           0.000\n",
       "L1.small_return         0.023585         0.005572            4.233           0.000\n",
       "L2.large_return         0.059280         0.007566            7.835           0.000\n",
       "L2.small_return         0.021591         0.005573            3.874           0.000\n",
       "L3.large_return         0.011802         0.007572            1.559           0.119\n",
       "L3.small_return         0.005107         0.005566            0.918           0.359\n",
       "==================================================================================\n",
       "\n",
       "Results for equation small_return\n",
       "==================================================================================\n",
       "                     coefficient       std. error           t-stat            prob\n",
       "----------------------------------------------------------------------------------\n",
       "const                  -0.000195         0.000079           -2.450           0.014\n",
       "L1.large_return         0.051793         0.010256            5.050           0.000\n",
       "L1.small_return         0.047237         0.007557            6.251           0.000\n",
       "L2.large_return         0.071515         0.010261            6.969           0.000\n",
       "L2.small_return         0.017076         0.007558            2.259           0.024\n",
       "L3.large_return         0.027082         0.010269            2.637           0.008\n",
       "L3.small_return         0.031152         0.007548            4.127           0.000\n",
       "==================================================================================\n",
       "\n",
       "Correlation matrix of residuals\n",
       "                large_return  small_return\n",
       "large_return        1.000000      0.050500\n",
       "small_return        0.050500      1.000000\n",
       "\n"
      ]
     },
     "execution_count": 94,
     "metadata": {},
     "output_type": "execute_result"
    }
   ],
   "source": [
    "model_fitted = model.fit(3)\n",
    "model_fitted.summary()"
   ]
  }
 ],
 "metadata": {
  "interpreter": {
   "hash": "aee8b7b246df8f9039afb4144a1f6fd8d2ca17a180786b69acc140d282b71a49"
  },
  "kernelspec": {
   "display_name": "Python 3.9.2 64-bit",
   "language": "python",
   "name": "python3"
  },
  "language_info": {
   "codemirror_mode": {
    "name": "ipython",
    "version": 3
   },
   "file_extension": ".py",
   "mimetype": "text/x-python",
   "name": "python",
   "nbconvert_exporter": "python",
   "pygments_lexer": "ipython3",
   "version": "3.9.2"
  },
  "orig_nbformat": 4
 },
 "nbformat": 4,
 "nbformat_minor": 2
}
